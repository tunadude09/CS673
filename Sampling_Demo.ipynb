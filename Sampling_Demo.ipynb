{
 "cells": [
  {
   "cell_type": "code",
   "execution_count": 23,
   "metadata": {
    "collapsed": true
   },
   "outputs": [],
   "source": [
    "import pandas as pd\n",
    "import numpy as np\n",
    "import json\n",
    "import os\n",
    "import string\n",
    "import re\n",
    "import random\n",
    "import sklearn as skl\n",
    "import matplotlib.pyplot as plt\n",
    "from sklearn.decomposition import KernelPCA\n",
    "from sklearn.model_selection import train_test_split\n",
    "\n",
    "\n",
    "\n",
    "from sklearn.ensemble import RandomForestRegressor as RFR\n",
    "from sklearn.ensemble import GradientBoostingRegressor as GBR\n",
    "from sklearn.neural_network import MLPRegressor as MLPR\n",
    "from sklearn.svm import SVR\n",
    "from sklearn.linear_model import LinearRegression as LR\n",
    "from sklearn.linear_model import Lasso \n",
    "from sklearn.linear_model import Perceptron \n",
    "\n",
    "\n"
   ]
  },
  {
   "cell_type": "markdown",
   "metadata": {},
   "source": [
    "# Global Variables"
   ]
  },
  {
   "cell_type": "code",
   "execution_count": 2,
   "metadata": {
    "collapsed": false
   },
   "outputs": [],
   "source": [
    "seed = 2293687334\n",
    "random.seed(seed)\n",
    "np.random.seed(seed)"
   ]
  },
  {
   "cell_type": "code",
   "execution_count": null,
   "metadata": {
    "collapsed": true
   },
   "outputs": [],
   "source": []
  },
  {
   "cell_type": "markdown",
   "metadata": {},
   "source": [
    "#  Import and Clean Data"
   ]
  },
  {
   "cell_type": "code",
   "execution_count": 3,
   "metadata": {
    "collapsed": true
   },
   "outputs": [],
   "source": [
    "#  Reduce JSON product to key features \n",
    "\n",
    "def load_clean_vectorize():\n",
    "\n",
    "    def extract_key_prod_values(passed_json_prod):\n",
    "        review_vol = len(passed_json_prod['Reviews'])\n",
    "        avg_score = 0.0\n",
    "\n",
    "        for review in passed_json_prod['Reviews']:\n",
    "            if pd.isnull(review['Overall']) or review['Overall'] is None or review['Overall'] == 'None':\n",
    "                continue\n",
    "            avg_score += float(review['Overall'])\n",
    "        if review_vol <= 0:\n",
    "            avg_score = -1\n",
    "        else:\n",
    "            avg_score /= review_vol\n",
    "\n",
    "        price = passed_json_prod['ProductInfo']['Price']\n",
    "        name = passed_json_prod['ProductInfo']['Name']\n",
    "        features = passed_json_prod['ProductInfo']['Features']\n",
    "\n",
    "        return [name, features, price, avg_score, review_vol]\n",
    "\n",
    "\n",
    "\n",
    "    cleaned_prods = []\n",
    "\n",
    "\n",
    "    #  TODO:  need to change these absolute paths\n",
    "    \n",
    "#     paths = ['/home/tuna/Projects/CS673/amazon_api/dumps/cameras/',\n",
    "#             '/home/tuna/Projects/CS673/amazon_api/dumps/laptops/',\n",
    "#             '/home/tuna/Projects/CS673/amazon_api/dumps/mobilephone/',\n",
    "#             '/home/tuna/Projects/CS673/amazon_api/dumps/tablets/',\n",
    "#             '/home/tuna/Projects/CS673/amazon_api/dumps/TVs/',\n",
    "#             '/home/tuna/Projects/CS673/amazon_api/dumps/video_surveillance/']\n",
    "#     path_cameras = '/home/tuna/Projects/CS673/amazon_api/dumps/cameras/'\n",
    "    paths = ['amazon_api/dumps/cameras/',\n",
    "            'amazon_api/dumps/laptops/',\n",
    "            'amazon_api/dumps/mobilephone/',\n",
    "            'amazon_api/dumps/tablets/',\n",
    "            'amazon_api/dumps/TVs/',\n",
    "            'amazon_api/dumps/video_surveillance/']\n",
    "    path_cameras = 'amazon_api/dumps/cameras/'\n",
    "\n",
    "\n",
    "    #  go through every file in directory and convert to json/clean\n",
    "    for path in paths:\n",
    "        for filename in os.listdir(path):\n",
    "    #         print(filename)\n",
    "\n",
    "            try:\n",
    "                raw_prod_json = json.load(file(path + filename))\n",
    "            except ValueError as e:\n",
    "                print(\"**************ERROR********************\")\n",
    "            cleaned_prod_json = extract_key_prod_values(raw_prod_json)\n",
    "            cleaned_prods.append(cleaned_prod_json)\n",
    "\n",
    "\n",
    "\n",
    "    cleaned_prods_df = pd.DataFrame(cleaned_prods)\n",
    "    cleaned_prods_df.columns = ['name', 'features', 'price', 'avg_score', 'review_vol']\n",
    "#     cleaned_prods_df.head()\n",
    "\n",
    "\n",
    "\n",
    "    #  TODO:  now I need to throw out missing data\n",
    "    cleaned_prods_df = cleaned_prods_df[pd.notnull(cleaned_prods_df.features)]\n",
    "    cleaned_prods_df = cleaned_prods_df[pd.notnull(cleaned_prods_df.price)]\n",
    "    cleaned_prods_df = cleaned_prods_df[pd.notnull(cleaned_prods_df.avg_score)]\n",
    "    cleaned_prods_df = cleaned_prods_df[pd.notnull(cleaned_prods_df.review_vol)]\n",
    "    cleaned_prods_df = cleaned_prods_df[cleaned_prods_df.review_vol > 0]\n",
    "    cleaned_prods_df = cleaned_prods_df[cleaned_prods_df.price != \"Unavailable\"]\n",
    "# cleaned_prods_df.head()\n",
    "\n",
    "\n",
    "    vector_prop_df = cleaned_prods_df.copy(deep=True)\n",
    "    name_list = vector_prop_df['name']\n",
    "    features_list = vector_prop_df['features']\n",
    "    vector_prop_df['description'] = [name_list.iloc[i] + \" \" + features_list.iloc[i] \n",
    "                                     for i in range(len(vector_prop_df))]\n",
    "\n",
    "\n",
    "#     vector_prop_df.head()\n",
    "\n",
    "    \n",
    "    \n",
    "\n",
    "    def clean_string_for_tokens(passed_string):\n",
    "        cleaned_string = string.replace(passed_string, \"\\n\", \" \")\n",
    "        cleaned_string = cleaned_string.lower()\n",
    "        cleaned_string = re.sub('((\\d+|\\S+)[\\.])(?!([\\d]+))','\\g<2>',cleaned_string)\n",
    "        cleaned_string = re.sub('[^a-z.\\-A-Z0-9+]', \" \", cleaned_string)\n",
    "        cleaned_string = re.sub('\\+', \" \", cleaned_string)\n",
    "\n",
    "        return cleaned_string\n",
    "    \n",
    "    \n",
    "    \n",
    "    vector_prop_df['description'] = \\\n",
    "        [clean_string_for_tokens(desc) for desc in vector_prop_df['description']]\n",
    "        \n",
    "        \n",
    "        \n",
    "        \n",
    "    #  extract tf-idf scores while removing stopwords. I'm using this to first build a \n",
    "    #  set of the most important words... then I'll go through each description and\n",
    "    #  count how many times each of the words appear then this will be that product's\n",
    "    #  vector representation. So this first step is simply \n",
    "    from sklearn.feature_extraction.text import TfidfVectorizer\n",
    "    corpus = list(vector_prop_df['description'])\n",
    "    vectorizer = TfidfVectorizer(min_df=0.005, stop_words='english', strip_accents='ascii')\n",
    "    #                              ngram_range=(3,100), max_df=1.0)\n",
    "    X = vectorizer.fit_transform(corpus)\n",
    "    idf = vectorizer.idf_\n",
    "    word_scores = dict(zip(vectorizer.get_feature_names(), idf))\n",
    "    top_ranked_words = sorted(word_scores.items(), key = lambda x: x[1], reverse=True)[:1000]\n",
    "    top_ranked_words = np.asarray(top_ranked_words)[:,0]\n",
    "#     top_ranked_words[:20]\n",
    "\n",
    "\n",
    "\n",
    "    #  turn a description into a vector of the top ranked words\n",
    "    def vectorize_description(desc_str, top_ranked_words):\n",
    "        product_vector = np.zeros(len(top_ranked_words))\n",
    "\n",
    "        for word in desc_str.split(\" \"):\n",
    "            if not word:\n",
    "                continue\n",
    "            word_index = np.where(top_ranked_words==word)[0]\n",
    "            if len(word_index) <= 0:\n",
    "                continue\n",
    "            else:\n",
    "                product_vector[word_index[0]] += 1\n",
    "\n",
    "        return product_vector\n",
    "\n",
    "    vector_prop_df['feature_vector'] = \\\n",
    "        [vectorize_description(desc, top_ranked_words) for desc in vector_prop_df['description']]\n",
    "        \n",
    "        \n",
    "        \n",
    "    return vector_prop_df, top_ranked_words"
   ]
  },
  {
   "cell_type": "code",
   "execution_count": 4,
   "metadata": {
    "collapsed": true
   },
   "outputs": [],
   "source": [
    "def get_words_from_vec(vec, top_ranked_words):\n",
    "    bool_vec = vec > 0\n",
    "    print(set(top_ranked_words[bool_vec]))\n",
    "    return set(top_ranked_words[bool_vec])"
   ]
  },
  {
   "cell_type": "code",
   "execution_count": 5,
   "metadata": {
    "collapsed": true
   },
   "outputs": [],
   "source": [
    "##  output to file for use with the vaccum discovery script\n",
    "# vector_prop_df.to_excel('vectorized_products.xlsx')\n"
   ]
  },
  {
   "cell_type": "code",
   "execution_count": null,
   "metadata": {
    "collapsed": true
   },
   "outputs": [],
   "source": []
  },
  {
   "cell_type": "code",
   "execution_count": null,
   "metadata": {
    "collapsed": true
   },
   "outputs": [],
   "source": []
  },
  {
   "cell_type": "code",
   "execution_count": 6,
   "metadata": {
    "collapsed": false
   },
   "outputs": [],
   "source": [
    "#prods_original, top_ranked_words = load_clean_vectorize()"
   ]
  },
  {
   "cell_type": "code",
   "execution_count": null,
   "metadata": {
    "collapsed": true
   },
   "outputs": [],
   "source": []
  },
  {
   "cell_type": "code",
   "execution_count": null,
   "metadata": {
    "collapsed": true
   },
   "outputs": [],
   "source": []
  },
  {
   "cell_type": "code",
   "execution_count": null,
   "metadata": {
    "collapsed": true
   },
   "outputs": [],
   "source": []
  },
  {
   "cell_type": "markdown",
   "metadata": {},
   "source": [
    "# Generator"
   ]
  },
  {
   "cell_type": "code",
   "execution_count": 7,
   "metadata": {
    "collapsed": false
   },
   "outputs": [],
   "source": [
    "def dimensionality_reduction(prods_original, kpca_dim):\n",
    "\n",
    "    prod_vectors = prods_original['feature_vector'].as_matrix()\n",
    "#     prod_vectors = list(prod_vectors.astype('str'))\n",
    "#     tmp = []\n",
    "#     for prod_str in prod_vectors:\n",
    "#         tmp_array = np.asarray(re.split(\"\\s+\", prod_str.replace('\\n', ' ')[1:-1].strip())).astype(float)\n",
    "#         tmp.append(tmp_array)\n",
    "#     prod_vectors = tmp\n",
    "    prod_vectors = np.atleast_2d(list(prod_vectors))\n",
    "\n",
    "\n",
    "    #  change to binary values\n",
    "    prod_vectors_cleaned = (prod_vectors > 0).astype(int)\n",
    "\n",
    "\n",
    "    #    reduce the featurs down to 2 dimensions, find the gaps with e clustering algorithm,\n",
    "    #    then use kernel PCA to fransform these points back into features mappings\n",
    "    #    these final mappings will be the proposed projects\n",
    "    theshold_inv_value = 0.03\n",
    "    kpca_model = KernelPCA(n_components=kpca_dim, kernel='poly', fit_inverse_transform=True, n_jobs=-1,\n",
    "                               degree=4)\n",
    "    prod_vectors = prod_vectors_cleaned\n",
    "    kpca_model.fit(prod_vectors)\n",
    "    embedded_prods = kpca_model.transform(prod_vectors)\n",
    "    \n",
    "    return embedded_prods, kpca_model\n",
    "\n",
    "\n",
    "def dimensionality_projection(embedding, kpca_model):\n",
    "    return kpca_model.inverse_transform(embedding)\n",
    "\n"
   ]
  },
  {
   "cell_type": "code",
   "execution_count": null,
   "metadata": {
    "collapsed": true
   },
   "outputs": [],
   "source": []
  },
  {
   "cell_type": "code",
   "execution_count": 8,
   "metadata": {
    "collapsed": false
   },
   "outputs": [],
   "source": [
    "#embedded_prods, kpca_model = dimensionality_reduction(prods_original)"
   ]
  },
  {
   "cell_type": "code",
   "execution_count": 9,
   "metadata": {
    "collapsed": false
   },
   "outputs": [],
   "source": [
    "#plt.scatter(embedded_prods[:,0], embedded_prods[:,1])"
   ]
  },
  {
   "cell_type": "code",
   "execution_count": null,
   "metadata": {
    "collapsed": true
   },
   "outputs": [],
   "source": []
  },
  {
   "cell_type": "code",
   "execution_count": null,
   "metadata": {
    "collapsed": true
   },
   "outputs": [],
   "source": []
  },
  {
   "cell_type": "code",
   "execution_count": null,
   "metadata": {
    "collapsed": true
   },
   "outputs": [],
   "source": []
  },
  {
   "cell_type": "code",
   "execution_count": 10,
   "metadata": {
    "collapsed": true
   },
   "outputs": [],
   "source": [
    "# new_product_proposals = "
   ]
  },
  {
   "cell_type": "code",
   "execution_count": null,
   "metadata": {
    "collapsed": true
   },
   "outputs": [],
   "source": []
  },
  {
   "cell_type": "markdown",
   "metadata": {},
   "source": [
    "#  Evaluator"
   ]
  },
  {
   "cell_type": "code",
   "execution_count": 11,
   "metadata": {
    "collapsed": true
   },
   "outputs": [],
   "source": [
    "def train_evaluator(prods_original):\n",
    "    \n",
    "    #  extract vector for x, some aggregate of avg_score, price, and review vol for y\n",
    "    prod_vectors_x = prods_original['feature_vector'].as_matrix()\n",
    "#     prod_vectors_x = list(prod_vectors_x.astype('str'))\n",
    "#     tmp = []\n",
    "#     for prod_str in prod_vectors_x:\n",
    "#         tmp_array = np.asarray(re.split(\"\\s+\", prod_str.replace('\\n', ' ')[1:-1].strip())).astype(float)\n",
    "#         tmp.append(tmp_array)\n",
    "#     prod_vectors_x = tmp\n",
    "    prod_vectors_x = np.atleast_2d(list(prod_vectors_x))\n",
    "\n",
    "    #  change to binary values\n",
    "    prod_vectors_x = (prod_vectors_x > 0).astype(int)\n",
    "    prod_vectors_x\n",
    "\n",
    "        #  create prod_vectors_y (price, avg score, reviw vol)\n",
    "    price_list = prods_original['price']\n",
    "    score_list = prods_original['avg_score']\n",
    "    vol_list = prods_original['review_vol']\n",
    "\n",
    "\n",
    "\n",
    "\n",
    "    #  TODO: need to define what important to us, this values total revenue above all us\n",
    "    def calculate_value(price, score, vol):\n",
    "    #     price = price.replace(',','')\n",
    "    #     price = float(price.split('.')[0][1:])\n",
    "        score = float(score)\n",
    "        vol = float(vol)\n",
    "        return 1.0 + (score - 1.0)*(1.0 - 1.0/(vol/10.0 + 1.0))\n",
    "    \n",
    "    \n",
    "    \n",
    "    prod_vectors_y = [calculate_value(price_list.iloc[i], score_list.iloc[i], vol_list.iloc[i]) \\\n",
    "                  for i in range(len(price_list))]\n",
    "\n",
    "    \n",
    "    \n",
    "    X_train, X_test, y_train, y_test = train_test_split(prod_vectors_x, prod_vectors_y, test_size=0.2)\n",
    "#     new_prod_vectors_x = new_prods_original.as_matrix()\n",
    "    \n",
    "    \n",
    "    #  final model\n",
    "    model = RFR(n_jobs=-1, oob_score=True, n_estimators=100, max_depth=None, max_features=2)\n",
    "    model.fit(prod_vectors_x, prod_vectors_y)\n",
    "#     model.score(prod_vectors_x, prod_vectors_y)\n",
    "\n",
    "    return model\n",
    "\n",
    "    \n",
    "    \n",
    "    \n",
    "    \n",
    "    \n",
    "\n",
    "def rank_products(model, new_prod_vectors):\n",
    "    new_prod_scores = model.predict(new_prod_vectors)\n",
    "    \n",
    "    new_prod_combined_scores = np.hstack((new_prod_vectors_x, np.atleast_2d(new_prod_scores).T))\n",
    "    top_ranked_prods = np.asarray(sorted(new_prod_combined_scores, key=lambda x: -x[-1]))\n",
    "    return top_ranked_prods\n",
    "    \n",
    "    \n",
    "    \n",
    "# new_prods_original"
   ]
  },
  {
   "cell_type": "code",
   "execution_count": null,
   "metadata": {
    "collapsed": true
   },
   "outputs": [],
   "source": []
  },
  {
   "cell_type": "code",
   "execution_count": 12,
   "metadata": {
    "collapsed": false
   },
   "outputs": [],
   "source": [
    "#model = train_evaluator(prods_original)"
   ]
  },
  {
   "cell_type": "code",
   "execution_count": null,
   "metadata": {
    "collapsed": true
   },
   "outputs": [],
   "source": []
  },
  {
   "cell_type": "code",
   "execution_count": null,
   "metadata": {
    "collapsed": true
   },
   "outputs": [],
   "source": []
  },
  {
   "cell_type": "code",
   "execution_count": null,
   "metadata": {
    "collapsed": true
   },
   "outputs": [],
   "source": []
  },
  {
   "cell_type": "code",
   "execution_count": null,
   "metadata": {
    "collapsed": true
   },
   "outputs": [],
   "source": []
  },
  {
   "cell_type": "code",
   "execution_count": null,
   "metadata": {
    "collapsed": true
   },
   "outputs": [],
   "source": []
  },
  {
   "cell_type": "code",
   "execution_count": null,
   "metadata": {
    "collapsed": true
   },
   "outputs": [],
   "source": []
  },
  {
   "cell_type": "markdown",
   "metadata": {},
   "source": [
    "#   Grid Sampler"
   ]
  },
  {
   "cell_type": "code",
   "execution_count": null,
   "metadata": {
    "collapsed": true
   },
   "outputs": [],
   "source": []
  },
  {
   "cell_type": "code",
   "execution_count": null,
   "metadata": {
    "collapsed": true
   },
   "outputs": [],
   "source": []
  },
  {
   "cell_type": "code",
   "execution_count": null,
   "metadata": {
    "collapsed": true
   },
   "outputs": [],
   "source": []
  },
  {
   "cell_type": "code",
   "execution_count": 13,
   "metadata": {
    "collapsed": true
   },
   "outputs": [],
   "source": [
    "from Product_Explorer import Explorer"
   ]
  },
  {
   "cell_type": "code",
   "execution_count": 14,
   "metadata": {
    "collapsed": true
   },
   "outputs": [],
   "source": [
    "class Explorer(object):\n",
    "    THRESHOLD = 10 # Calculated as follows: 1/1+e^-(THRESHOLD*distance-5)\n",
    "                  # Higher number = less penalty for being close\n",
    "    MIN_DISTANCE = 1 # Just to avoid division by 0, we need a minimum distance\n",
    "    DISTANCE_EXPONENT = 2 # Higher makes it less likely to sample distant points\n",
    "    DISTANCE_SCALER = 0.2 # Adjust this to make the scale of the graph make sense\n",
    "\n",
    "    def __init__(self):\n",
    "        self.kernels = 0\n",
    "\n",
    "    #embedded_prods\n",
    "    def generate_space(self, embedded_prods, percent_increase=0.2):\n",
    "        self.known_points = embedded_prods\n",
    "        xs = embedded_prods[:,0]\n",
    "        ys = embedded_prods[:,1]\n",
    "        minx = np.min(xs)\n",
    "        miny = np.min(ys)\n",
    "        maxx = np.max(xs)\n",
    "        maxy = np.max(ys)\n",
    "        self.min_x = minx - (maxx-minx)*percent_increase\n",
    "        self.max_x = maxx + (maxx-minx)*percent_increase\n",
    "        self.min_y = miny - (maxy-miny)*percent_increase\n",
    "        self.max_y = maxy + (maxy-miny)*percent_increase\n",
    "\n",
    "    def gridify_space(self, x_dim=20, y_dim=20):\n",
    "        self.x_dim = x_dim\n",
    "        self.y_dim = y_dim\n",
    "        self.x_spacing = (self.max_x - self.min_x)/x_dim\n",
    "        self.y_spacing = (self.max_y - self.min_y)/y_dim\n",
    "        self.x_start = self.min_x + self.x_spacing/2\n",
    "        self.y_start = self.min_y + self.y_spacing/2\n",
    "        test_points = np.mgrid[self.x_start:self.x_start+self.x_dim*self.x_spacing:self.x_spacing, self.y_start:self.y_start+self.y_dim*self.y_spacing:self.y_spacing].reshape(2,-1).T\n",
    "        return test_points\n",
    "\n",
    "    def calc_min_dist(self, test_points):\n",
    "        dists = np.empty((0,1))\n",
    "        for i in xrange(test_points.shape[0]):\n",
    "            mindist = np.min(np.sqrt(np.sum(np.power(self.known_points-test_points[i,:2], 2), axis=1)))\n",
    "            dists = np.vstack((dists, np.atleast_2d(mindist)))\n",
    "        return dists\n",
    "\n",
    "    def distance_penalty(self, distance):\n",
    "        penalty = 1/(1+np.exp(-(Explorer.THRESHOLD*Explorer.DISTANCE_SCALER*distance-5)))\n",
    "        return penalty\n",
    "\n",
    "    def pick_samples(self, evaluated_test_points, num_samples):\n",
    "        largenumber = 9999999999 #this is used to offset picked samples so that they don't get picked again\n",
    "        dists = self.calc_min_dist(evaluated_test_points)\n",
    "        penalties = self.distance_penalty(dists)\n",
    "        total = np.sum(evaluated_test_points[:,2] / ((Explorer.DISTANCE_SCALER*dists[:,0])**Explorer.DISTANCE_EXPONENT + Explorer.MIN_DISTANCE) * penalties[:,0])\n",
    "        ws = np.random.uniform(0, total, num_samples)\n",
    "        uptos = np.zeros(num_samples)\n",
    "        samples = np.empty((0, 3))\n",
    "        for i in xrange(evaluated_test_points.shape[0]):\n",
    "            uptos[uptos<ws] += evaluated_test_points[i,2] / ((Explorer.DISTANCE_SCALER*dists[i,0])**Explorer.DISTANCE_EXPONENT + Explorer.MIN_DISTANCE) * penalties[i,0]\n",
    "            for n in xrange(num_samples):\n",
    "                if uptos[n] >= ws[n]:\n",
    "                    samples = np.vstack((samples, evaluated_test_points[i]))\n",
    "                    uptos[n] = -1 * total * largenumber\n",
    "        return samples\n",
    "\n",
    "    def evaluate_points_on_distribution_at_fixed_value(self, xs, value):\n",
    "        ys = value / ((Explorer.DISTANCE_SCALER*xs)**Explorer.DISTANCE_EXPONENT + 1) * (self.distance_penalty(xs))\n",
    "        return ys\n",
    "\n",
    "    def sample_space(self, evaluated_test_points, num_samples=1):\n",
    "        sample_boxes = self.pick_samples(evaluated_test_points, num_samples)\n",
    "        print sample_boxes\n",
    "        samples = np.copy(sample_boxes)\n",
    "        samples = np.delete(samples, 2, 1)\n",
    "        sample_x_offsets = np.random.random(num_samples)\n",
    "        sample_x_offsets *= self.x_spacing\n",
    "        sample_x_offsets -= self.x_spacing/2\n",
    "        sample_y_offsets = np.random.random(num_samples)\n",
    "        sample_y_offsets *= self.y_spacing\n",
    "        sample_y_offsets -= self.y_spacing/2\n",
    "        samples[:,0] += sample_x_offsets\n",
    "        samples[:,1] += sample_y_offsets\n",
    "        return samples"
   ]
  },
  {
   "cell_type": "code",
   "execution_count": 15,
   "metadata": {
    "collapsed": true
   },
   "outputs": [],
   "source": [
    "class Explorer3D(object):\n",
    "    THRESHOLD = 10 # Calculated as follows: 1/1+e^-(THRESHOLD*distance-5)\n",
    "                  # Higher number = less penalty for being close\n",
    "    MIN_DISTANCE = 1 # Just to avoid division by 0, we need a minimum distance\n",
    "    DISTANCE_EXPONENT = 2 # Higher makes it less likely to sample distant points\n",
    "    DISTANCE_SCALER = 0.2 # Adjust this to make the scale of the graph make sense\n",
    "\n",
    "    def __init__(self):\n",
    "        self.kernels = 0\n",
    "\n",
    "    #embedded_prods\n",
    "    def generate_space(self, embedded_prods, percent_increase=0.2):\n",
    "        self.known_points = embedded_prods\n",
    "        xs = embedded_prods[:,0]\n",
    "        ys = embedded_prods[:,1]\n",
    "        zs = embedded_prods[:,2]\n",
    "        minx = np.min(xs)\n",
    "        miny = np.min(ys)\n",
    "        minz = np.min(zs)\n",
    "        maxx = np.max(xs)\n",
    "        maxy = np.max(ys)\n",
    "        maxz = np.max(zs)\n",
    "        self.min_x = minx - (maxx-minx)*percent_increase\n",
    "        self.max_x = maxx + (maxx-minx)*percent_increase\n",
    "        self.min_y = miny - (maxy-miny)*percent_increase\n",
    "        self.max_y = maxy + (maxy-miny)*percent_increase\n",
    "        self.min_z = minz - (maxz-minz)*percent_increase\n",
    "        self.max_z = maxz + (maxz-minz)*percent_increase\n",
    "\n",
    "    def gridify_space(self, x_dim=20, y_dim=20, z_dim=20):\n",
    "        self.x_dim = x_dim\n",
    "        self.y_dim = y_dim\n",
    "        self.z_dim = z_dim\n",
    "        self.x_spacing = (self.max_x - self.min_x)/x_dim\n",
    "        self.y_spacing = (self.max_y - self.min_y)/y_dim\n",
    "        self.z_spacing = (self.max_z - self.min_z)/z_dim\n",
    "        self.x_start = self.min_x + self.x_spacing/2\n",
    "        self.y_start = self.min_y + self.y_spacing/2\n",
    "        self.z_start = self.min_z + self.z_spacing/2\n",
    "        test_points = np.mgrid[self.x_start:self.x_start+self.x_dim*self.x_spacing:self.x_spacing, \n",
    "                               self.y_start:self.y_start+self.y_dim*self.y_spacing:self.y_spacing, \n",
    "                               self.z_start:self.z_start+self.z_dim*self.z_spacing:self.z_spacing].reshape(3,-1).T\n",
    "        return test_points\n",
    "\n",
    "    def calc_min_dist(self, test_points):\n",
    "        dists = np.empty((0,1))\n",
    "        for i in xrange(test_points.shape[0]):\n",
    "            mindist = np.min(np.sqrt(np.sum(np.power(self.known_points-test_points[i,:3], 2), axis=1)))\n",
    "            dists = np.vstack((dists, np.atleast_2d(mindist)))\n",
    "        return dists\n",
    "\n",
    "    def distance_penalty(self, distance):\n",
    "        penalty = 1/(1+np.exp(-(Explorer.THRESHOLD*Explorer.DISTANCE_SCALER*distance-5)))\n",
    "        return penalty\n",
    "\n",
    "    def pick_samples(self, evaluated_test_points, num_samples):\n",
    "        largenumber = 9999999999 #this is used to offset picked samples so that they don't get picked again\n",
    "        dists = self.calc_min_dist(evaluated_test_points)\n",
    "        penalties = self.distance_penalty(dists)\n",
    "        total = np.sum(evaluated_test_points[:,3] / ((Explorer.DISTANCE_SCALER*dists[:,0])**Explorer.DISTANCE_EXPONENT + Explorer.MIN_DISTANCE) * penalties[:,0])\n",
    "        ws = np.random.uniform(0, total, num_samples)\n",
    "        uptos = np.zeros(num_samples)\n",
    "        samples = np.empty((0, 4))\n",
    "        for i in xrange(evaluated_test_points.shape[0]):\n",
    "            uptos[uptos<ws] += evaluated_test_points[i,3] / ((Explorer.DISTANCE_SCALER*dists[i,0])**Explorer.DISTANCE_EXPONENT + Explorer.MIN_DISTANCE) * penalties[i,0]\n",
    "            for n in xrange(num_samples):\n",
    "                if uptos[n] >= ws[n]:\n",
    "                    samples = np.vstack((samples, evaluated_test_points[i]))\n",
    "                    uptos[n] = -1 * total * largenumber\n",
    "        return samples\n",
    "\n",
    "    def evaluate_points_on_distribution_at_fixed_value(self, xs, value):\n",
    "        ys = value / ((Explorer.DISTANCE_SCALER*xs)**Explorer.DISTANCE_EXPONENT + 1) * (self.distance_penalty(xs))\n",
    "        return ys\n",
    "\n",
    "    def sample_space(self, evaluated_test_points, num_samples=1):\n",
    "        sample_boxes = self.pick_samples(evaluated_test_points, num_samples)\n",
    "        print sample_boxes\n",
    "        samples = np.copy(sample_boxes)\n",
    "        samples = np.delete(samples, 3, 1)\n",
    "        sample_x_offsets = np.random.random(num_samples)\n",
    "        sample_x_offsets *= self.x_spacing\n",
    "        sample_x_offsets -= self.x_spacing/2\n",
    "        sample_y_offsets = np.random.random(num_samples)\n",
    "        sample_y_offsets *= self.y_spacing\n",
    "        sample_y_offsets -= self.y_spacing/2\n",
    "        sample_z_offsets = np.random.random(num_samples)\n",
    "        sample_z_offsets *= self.z_spacing\n",
    "        sample_z_offsets -= self.z_spacing/2\n",
    "        samples[:,0] += sample_x_offsets\n",
    "        samples[:,1] += sample_y_offsets\n",
    "        samples[:,2] += sample_z_offsets\n",
    "        return samples"
   ]
  },
  {
   "cell_type": "code",
   "execution_count": null,
   "metadata": {
    "collapsed": true
   },
   "outputs": [],
   "source": []
  },
  {
   "cell_type": "code",
   "execution_count": null,
   "metadata": {
    "collapsed": true
   },
   "outputs": [],
   "source": []
  },
  {
   "cell_type": "code",
   "execution_count": null,
   "metadata": {
    "collapsed": true
   },
   "outputs": [],
   "source": []
  },
  {
   "cell_type": "code",
   "execution_count": null,
   "metadata": {
    "collapsed": true
   },
   "outputs": [],
   "source": []
  },
  {
   "cell_type": "code",
   "execution_count": null,
   "metadata": {
    "collapsed": true
   },
   "outputs": [],
   "source": []
  },
  {
   "cell_type": "markdown",
   "metadata": {},
   "source": [
    "#  Combined Model"
   ]
  },
  {
   "cell_type": "code",
   "execution_count": null,
   "metadata": {
    "collapsed": true
   },
   "outputs": [],
   "source": []
  },
  {
   "cell_type": "code",
   "execution_count": 17,
   "metadata": {
    "collapsed": true
   },
   "outputs": [],
   "source": [
    "\n",
    "kpca_dim = 2"
   ]
  },
  {
   "cell_type": "code",
   "execution_count": 16,
   "metadata": {
    "collapsed": false
   },
   "outputs": [
    {
     "name": "stdout",
     "output_type": "stream",
     "text": [
      "Loading data, tf-idf, vectorizing...\n",
      "**************ERROR********************\n",
      "kPCA...\n",
      "kPCA3D...\n",
      "Training evaluator...\n",
      "Building sampling space...\n"
     ]
    }
   ],
   "source": [
    "print \"Loading data, tf-idf, vectorizing...\"\n",
    "prods_original, top_ranked_words = load_clean_vectorize()\n",
    "print \"kPCA...\"\n",
    "embedded_prods, kpca_model = dimensionality_reduction(prods_original, 2)\n",
    "print \"kPCA3D...\"\n",
    "# embedded_prods3, kpca_model3 = dimensionality_reduction(prods_original, 3)\n",
    "print \"Training evaluator...\"\n",
    "model = train_evaluator(prods_original)\n",
    "print \"Building sampling space...\"\n"
   ]
  },
  {
   "cell_type": "code",
   "execution_count": null,
   "metadata": {
    "collapsed": true
   },
   "outputs": [],
   "source": []
  },
  {
   "cell_type": "code",
   "execution_count": null,
   "metadata": {
    "collapsed": true
   },
   "outputs": [],
   "source": []
  },
  {
   "cell_type": "code",
   "execution_count": null,
   "metadata": {
    "collapsed": true
   },
   "outputs": [],
   "source": []
  },
  {
   "cell_type": "code",
   "execution_count": null,
   "metadata": {
    "collapsed": true
   },
   "outputs": [],
   "source": []
  },
  {
   "cell_type": "code",
   "execution_count": null,
   "metadata": {
    "collapsed": true
   },
   "outputs": [],
   "source": []
  },
  {
   "cell_type": "code",
   "execution_count": null,
   "metadata": {
    "collapsed": true
   },
   "outputs": [],
   "source": []
  },
  {
   "cell_type": "code",
   "execution_count": null,
   "metadata": {
    "collapsed": true
   },
   "outputs": [],
   "source": []
  },
  {
   "cell_type": "code",
   "execution_count": null,
   "metadata": {
    "collapsed": true
   },
   "outputs": [],
   "source": []
  },
  {
   "cell_type": "code",
   "execution_count": null,
   "metadata": {
    "collapsed": true
   },
   "outputs": [],
   "source": []
  },
  {
   "cell_type": "code",
   "execution_count": null,
   "metadata": {
    "collapsed": true
   },
   "outputs": [],
   "source": []
  },
  {
   "cell_type": "code",
   "execution_count": null,
   "metadata": {
    "collapsed": true
   },
   "outputs": [],
   "source": []
  },
  {
   "cell_type": "code",
   "execution_count": null,
   "metadata": {
    "collapsed": true
   },
   "outputs": [],
   "source": []
  },
  {
   "cell_type": "code",
   "execution_count": null,
   "metadata": {
    "collapsed": true
   },
   "outputs": [],
   "source": []
  },
  {
   "cell_type": "markdown",
   "metadata": {
    "collapsed": true
   },
   "source": [
    "# Parameters"
   ]
  },
  {
   "cell_type": "code",
   "execution_count": 18,
   "metadata": {
    "collapsed": true
   },
   "outputs": [],
   "source": [
    "output_threshold = 0.5\n",
    "N = 10000\n",
    "Explorer.THRESHOLD = 20                 # Calculated as follows: 1/1+e^-(THRESHOLD*distance-5)\n",
    "                                       # Higher number = less penalty for being close\n",
    "Explorer.MIN_DISTANCE = 0.1              # Just to avoid division by 0, we need a minimum distance\n",
    "Explorer.DISTANCE_EXPONENT = 0.8        # Higher makes it less likely to sample distant points\n",
    "Explorer.DISTANCE_SCALER = 100         # Adjust this to make the scale of the graph make sense\n",
    "minimum_descriptors = 0\n",
    "maximum_descriptors = 100\n",
    "grid_size = 100\n",
    "grid_size3 = 30\n"
   ]
  },
  {
   "cell_type": "code",
   "execution_count": 20,
   "metadata": {
    "collapsed": false
   },
   "outputs": [
    {
     "name": "stdout",
     "output_type": "stream",
     "text": [
      "Evaluating sampling space...\n",
      "Sampling...\n",
      "[[-0.22059111 -0.10315121  1.83935495]\n",
      " [-0.22059111 -0.09548019  1.83935495]\n",
      " [-0.22059111 -0.08397366  1.87269788]\n",
      " ..., \n",
      " [ 0.16752466  0.27272894  3.45049452]\n",
      " [ 0.16752466  0.27272894  3.45049452]\n",
      " [ 0.16752466  0.27272894  3.45049452]]\n",
      "Evaluating samples...\n"
     ]
    }
   ],
   "source": [
    "e = Explorer()\n",
    "e.generate_space(embedded_prods)\n",
    "midpoints_to_evaluate = e.gridify_space(grid_size, grid_size)\n",
    "high_dim_midpoints = dimensionality_projection(midpoints_to_evaluate, kpca_model)\n",
    "print \"Evaluating sampling space...\"\n",
    "values = model.predict(high_dim_midpoints)\n",
    "evaluated_midpoints = np.hstack((midpoints_to_evaluate, np.atleast_2d(values).T))\n",
    "\n",
    "\n",
    "\n",
    "\n"
   ]
  },
  {
   "cell_type": "code",
   "execution_count": 31,
   "metadata": {
    "collapsed": false
   },
   "outputs": [],
   "source": [
    "\n",
    "def sample_explorerer(e, min_dist, dist_exp, dist_scaler):\n",
    "\n",
    "\n",
    "    Explorer.MIN_DISTANCE = min_dist              # Just to avoid division by 0, we need a minimum distance\n",
    "    Explorer.DISTANCE_EXPONENT = dist_exp        # Higher makes it less likely to sample distant points\n",
    "    Explorer.DISTANCE_SCALER = dist_scaler \n",
    "#     print \"Sampling...\"\n",
    "    samples = e.sample_space(evaluated_midpoints, N)\n",
    "#     high_dim_samples = dimensionality_projection(samples, kpca_model)\n",
    "#     print \"Evaluating samples...\"\n",
    "#     sample_values = model.predict(high_dim_samples)\n",
    "    return samples"
   ]
  },
  {
   "cell_type": "code",
   "execution_count": 21,
   "metadata": {
    "collapsed": false
   },
   "outputs": [
    {
     "data": {
      "image/png": "[encoded data removed]",
      "text/plain": [
       "<matplotlib.figure.Figure at 0x7ff9d22c2310>"
      ]
     },
     "metadata": {},
     "output_type": "display_data"
    }
   ],
   "source": [
    "# import matplotlib.pyplot as plt\n",
    "# import seaborn\n",
    "\n",
    "# xs = np.linspace(0,0.2,1000)\n",
    "# ys = e.evaluate_points_on_distribution_at_fixed_value(xs, 1)\n",
    "\n",
    "# plt.plot(xs, ys)\n",
    "# plt.show()"
   ]
  },
  {
   "cell_type": "code",
   "execution_count": null,
   "metadata": {
    "collapsed": true
   },
   "outputs": [],
   "source": []
  },
  {
   "cell_type": "code",
   "execution_count": null,
   "metadata": {
    "collapsed": true
   },
   "outputs": [],
   "source": []
  },
  {
   "cell_type": "code",
   "execution_count": 36,
   "metadata": {
    "collapsed": false
   },
   "outputs": [
    {
     "ename": "ImportError",
     "evalue": "No module named pyqy4",
     "output_type": "error",
     "traceback": [
      "\u001b[0;31m---------------------------------------------------------------------------\u001b[0m",
      "\u001b[0;31mImportError\u001b[0m                               Traceback (most recent call last)",
      "\u001b[0;32m<ipython-input-36-bcc24490344f>\u001b[0m in \u001b[0;36m<module>\u001b[0;34m()\u001b[0m\n\u001b[1;32m      4\u001b[0m \u001b[0;32mfrom\u001b[0m \u001b[0mpylab\u001b[0m \u001b[0;32mimport\u001b[0m \u001b[0;34m*\u001b[0m\u001b[0;34m\u001b[0m\u001b[0m\n\u001b[1;32m      5\u001b[0m \u001b[0;32mimport\u001b[0m \u001b[0mtime\u001b[0m\u001b[0;34m\u001b[0m\u001b[0m\n\u001b[0;32m----> 6\u001b[0;31m \u001b[0;32mimport\u001b[0m \u001b[0mpyqy4\u001b[0m\u001b[0;34m\u001b[0m\u001b[0m\n\u001b[0m\u001b[1;32m      7\u001b[0m \u001b[0;34m\u001b[0m\u001b[0m\n\u001b[1;32m      8\u001b[0m \u001b[0;32mfrom\u001b[0m \u001b[0mmatplotlib\u001b[0m\u001b[0;34m.\u001b[0m\u001b[0mwidgets\u001b[0m \u001b[0;32mimport\u001b[0m \u001b[0mSlider\u001b[0m\u001b[0;34m,\u001b[0m \u001b[0mButton\u001b[0m\u001b[0;34m,\u001b[0m \u001b[0mRadioButtons\u001b[0m\u001b[0;34m\u001b[0m\u001b[0m\n",
      "\u001b[0;31mImportError\u001b[0m: No module named pyqy4"
     ]
    }
   ],
   "source": [
    "from numpy import pi, sin\n",
    "import numpy as np\n",
    "import matplotlib.pyplot as plt\n",
    "from pylab import *\n",
    "import time\n",
    "import pyqy4\n",
    "\n",
    "from matplotlib.widgets import Slider, Button, RadioButtons\n",
    "\n",
    "def signal(thresh, dist_exp, dist_scale):\n",
    "    value = 1\n",
    "    return value / ((dist_scale*t)**dist_exp + 1)*(1/(1+np.exp(-(thresh*dist_scale*t-5))))\n",
    "\n",
    "axis_color = 'lightgoldenrodyellow'\n",
    "fig = plt.figure()\n",
    "\n",
    "# Draw the plot\n",
    "ax = fig.add_subplot(121)\n",
    "fig.set_size_inches(20,10)\n",
    "fig.subplots_adjust(left=0.25, bottom=0.25)\n",
    "t = np.arange(0.0, 1.0, 0.001)\n",
    "thresh_0 = 20.0\n",
    "dist_exp_0 = 0.8\n",
    "dist_scale_0 = 100.0\n",
    "\n",
    "[line] = ax.plot(t, signal(thresh_0, dist_exp_0, dist_scale_0), linewidth=2, color='red')\n",
    "ax.set_xlim([0, 0.2])\n",
    "ax.set_ylim([0.0, 0.7])\n",
    "\n",
    "\n",
    "# Draw the plot\n",
    "ax = fig.add_subplot(122)\n",
    "fig.set_size_inches(20,10)\n",
    "fig.subplots_adjust(left=0.25, bottom=0.25)\n",
    "#t = np.arange(0.0, 1.0, 0.001)\n",
    "#thresh_0 = 20.0\n",
    "#dist_exp_0 = 0.8\n",
    "#dist_scale_0 = 100.0\n",
    "\n",
    "# plt.scatter(embedded_prods[:,0], embedded_prods[:,1], s=4, c='b')\n",
    "ax.axes.scatter(embedded_prods[:,0], embedded_prods[:,1], s=4, c='b')\n",
    "plot2 = ax.axes.scatter(samples[:,0], samples[:,1], s=4, c='g')\n",
    "\n",
    "\n",
    "# [line2] = ax.plot(t, signal(thresh_0, dist_exp_0, dist_scale_0), linewidth=2, color='red')\n",
    "ax.set_xlim([-0.2, 0.17])\n",
    "ax.set_ylim([-0.11, 0.15])\n",
    "\n",
    "\n",
    "\n",
    "\n",
    "# Add two sliders for tweaking the parameters\n",
    "threshold_slider_ax  = fig.add_axes([0.25, 0.15, 0.65, 0.03], axisbg=axis_color)\n",
    "threshold_slider = Slider(threshold_slider_ax, 'thres', 1.0, 50.0, valinit=thresh_0)\n",
    "dist_exp_slider_ax = fig.add_axes([0.25, 0.1, 0.65, 0.03], axisbg=axis_color)\n",
    "dist_exp_slider = Slider(dist_exp_slider_ax, 'd_e', 0.2, 20.0, valinit=dist_exp_0)\n",
    "dist_scaler_slider_ax  = fig.add_axes([0.25, 0.05, 0.65, 0.03], axisbg=axis_color)\n",
    "dist_scaler_slider = Slider(dist_scaler_slider_ax, 'd_s', 20.0, 200.0, valinit=dist_scale_0)\n",
    "\n",
    "def sliders_on_changed(val):\n",
    "    time.sleep(0.5)\n",
    "    line.set_ydata(signal(threshold_slider.val, dist_exp_slider.val, dist_scaler_slider.val))\n",
    "    \n",
    "    #  regenerate data\n",
    "    new_scatter_data = sample_explorerer(e, threshold_slider.val, dist_exp_slider.val, dist_scaler_slider.val)\n",
    "    \n",
    "    \n",
    "    plot2.set_ydata(new_scatter_data[:,0], new_scatter_data[:,1])\n",
    "    \n",
    "    fig.canvas.draw_idle()\n",
    "threshold_slider.on_changed(sliders_on_changed)\n",
    "dist_exp_slider.on_changed(sliders_on_changed)\n",
    "dist_scaler_slider.on_changed(sliders_on_changed)\n",
    "\n",
    "\n",
    "# Add a button for resetting the parameters\n",
    "reset_button_ax = fig.add_axes([0.8, 0.025, 0.1, 0.04])\n",
    "reset_button = Button(reset_button_ax, 'Reset', color=axis_color, hovercolor='0.975')\n",
    "def reset_button_on_clicked(mouse_event):\n",
    "    freq_slider.reset()\n",
    "    amp_slider.reset()\n",
    "reset_button.on_clicked(reset_button_on_clicked)\n",
    "\n",
    "\n",
    "plt.show()"
   ]
  },
  {
   "cell_type": "code",
   "execution_count": null,
   "metadata": {
    "collapsed": true
   },
   "outputs": [],
   "source": []
  },
  {
   "cell_type": "code",
   "execution_count": null,
   "metadata": {
    "collapsed": true
   },
   "outputs": [],
   "source": []
  },
  {
   "cell_type": "code",
   "execution_count": null,
   "metadata": {
    "collapsed": true
   },
   "outputs": [],
   "source": []
  },
  {
   "cell_type": "code",
   "execution_count": null,
   "metadata": {
    "collapsed": true
   },
   "outputs": [],
   "source": []
  },
  {
   "cell_type": "code",
   "execution_count": null,
   "metadata": {
    "collapsed": true
   },
   "outputs": [],
   "source": []
  },
  {
   "cell_type": "code",
   "execution_count": null,
   "metadata": {
    "collapsed": true
   },
   "outputs": [],
   "source": []
  },
  {
   "cell_type": "code",
   "execution_count": null,
   "metadata": {
    "collapsed": true
   },
   "outputs": [],
   "source": []
  },
  {
   "cell_type": "code",
   "execution_count": null,
   "metadata": {
    "collapsed": true
   },
   "outputs": [],
   "source": []
  },
  {
   "cell_type": "code",
   "execution_count": null,
   "metadata": {
    "collapsed": true
   },
   "outputs": [],
   "source": []
  },
  {
   "cell_type": "code",
   "execution_count": null,
   "metadata": {
    "collapsed": true
   },
   "outputs": [],
   "source": []
  },
  {
   "cell_type": "code",
   "execution_count": null,
   "metadata": {
    "collapsed": true
   },
   "outputs": [],
   "source": []
  },
  {
   "cell_type": "code",
   "execution_count": null,
   "metadata": {
    "collapsed": true
   },
   "outputs": [],
   "source": []
  }
 ],
 "metadata": {
  "anaconda-cloud": {},
  "kernelspec": {
   "display_name": "Python 3",
   "language": "python",
   "name": "python3"
  },
  "language_info": {
   "codemirror_mode": {
    "name": "ipython",
    "version": 3
   },
   "file_extension": ".py",
   "mimetype": "text/x-python",
   "name": "python",
   "nbconvert_exporter": "python",
   "pygments_lexer": "ipython3",
   "version": "3.6.0"
  }
 },
 "nbformat": 4,
 "nbformat_minor": 2
}
