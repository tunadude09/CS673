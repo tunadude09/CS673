{
 "cells": [
  {
   "cell_type": "code",
   "execution_count": 1,
   "metadata": {
    "collapsed": true
   },
   "outputs": [],
   "source": [
    "import pandas as pd\n",
    "import numpy as np\n",
    "import sklearn as skl\n",
    "import matplotlib.pyplot as plt\n",
    "import random\n",
    "import re\n",
    "from sklearn.decomposition import KernelPCA\n",
    "\n",
    "\n",
    "%matplotlib inline"
   ]
  },
  {
   "cell_type": "markdown",
   "metadata": {},
   "source": [
    "#  Global Variables"
   ]
  },
  {
   "cell_type": "code",
   "execution_count": 2,
   "metadata": {
    "collapsed": false
   },
   "outputs": [],
   "source": [
    "seed = 2293687334\n",
    "random.seed(seed)\n",
    "np.random.seed(seed)"
   ]
  },
  {
   "cell_type": "markdown",
   "metadata": {},
   "source": [
    "# Import"
   ]
  },
  {
   "cell_type": "code",
   "execution_count": 3,
   "metadata": {
    "collapsed": false
   },
   "outputs": [
    {
     "data": {
      "text/html": [
       "<div>\n",
       "<table border=\"1\" class=\"dataframe\">\n",
       "  <thead>\n",
       "    <tr style=\"text-align: right;\">\n",
       "      <th></th>\n",
       "      <th>name</th>\n",
       "      <th>features</th>\n",
       "      <th>price</th>\n",
       "      <th>avg_score</th>\n",
       "      <th>review_vol</th>\n",
       "      <th>description</th>\n",
       "      <th>feature_vector</th>\n",
       "    </tr>\n",
       "  </thead>\n",
       "  <tbody>\n",
       "    <tr>\n",
       "      <th>1</th>\n",
       "      <td>CAT5 TO BNC Passive Video and Power Balun Tran...</td>\n",
       "      <td>5 Cameras, CAT5 TO BNC Passive Video and Power...</td>\n",
       "      <td>$13.00</td>\n",
       "      <td>5.000000</td>\n",
       "      <td>1</td>\n",
       "      <td>cat5 to bnc passive video and power balun tran...</td>\n",
       "      <td>[ 0.  0.  0.  0.  0.  0.  0.  0.  0.  0.  0.  ...</td>\n",
       "    </tr>\n",
       "    <tr>\n",
       "      <th>4</th>\n",
       "      <td>Fujifilm S2100HD 10.0 Megapixel 15x Optical/5....</td>\n",
       "      <td>Allow 15x zoom ups during your recordings.\\nA ...</td>\n",
       "      <td>$210.93</td>\n",
       "      <td>5.000000</td>\n",
       "      <td>6</td>\n",
       "      <td>fujifilm s2100hd 10.0 megapixel 15x optical 5....</td>\n",
       "      <td>[ 0.  0.  0.  0.  0.  0.  0.  0.  0.  0.  0.  ...</td>\n",
       "    </tr>\n",
       "    <tr>\n",
       "      <th>5</th>\n",
       "      <td>Nikon D3100 Digital SLR Camera &amp; 18-55mm VR Le...</td>\n",
       "      <td>KIT INCLUDES 8 PRODUCTS -- All Brand New Items...</td>\n",
       "      <td>$469.95</td>\n",
       "      <td>4.760563</td>\n",
       "      <td>71</td>\n",
       "      <td>nikon d3100 digital slr camera   18-55mm vr le...</td>\n",
       "      <td>[ 0.  0.  0.  0.  0.  0.  0.  0.  0.  0.  0.  ...</td>\n",
       "    </tr>\n",
       "    <tr>\n",
       "      <th>6</th>\n",
       "      <td>Olympus FE-46 12MP Digital Camera Blue Crayola...</td>\n",
       "      <td>5x optical zoom; 12-megapixel resolution for p...</td>\n",
       "      <td>$149.99</td>\n",
       "      <td>3.846154</td>\n",
       "      <td>13</td>\n",
       "      <td>olympus fe-46 12mp digital camera blue crayola...</td>\n",
       "      <td>[ 0.  0.  0.  0.  0.  0.  0.  0.  0.  0.  0.  ...</td>\n",
       "    </tr>\n",
       "    <tr>\n",
       "      <th>8</th>\n",
       "      <td>Kodak Slice 14MP Digital Camera with Schneider...</td>\n",
       "      <td>14-megapixel resolution for high-quality pictu...</td>\n",
       "      <td>$299.00</td>\n",
       "      <td>3.694915</td>\n",
       "      <td>59</td>\n",
       "      <td>kodak slice 14mp digital camera with schneider...</td>\n",
       "      <td>[ 0.  0.  0.  0.  0.  0.  0.  0.  0.  0.  0.  ...</td>\n",
       "    </tr>\n",
       "  </tbody>\n",
       "</table>\n",
       "</div>"
      ],
      "text/plain": [
       "                                                name  \\\n",
       "1  CAT5 TO BNC Passive Video and Power Balun Tran...   \n",
       "4  Fujifilm S2100HD 10.0 Megapixel 15x Optical/5....   \n",
       "5  Nikon D3100 Digital SLR Camera & 18-55mm VR Le...   \n",
       "6  Olympus FE-46 12MP Digital Camera Blue Crayola...   \n",
       "8  Kodak Slice 14MP Digital Camera with Schneider...   \n",
       "\n",
       "                                            features    price  avg_score  \\\n",
       "1  5 Cameras, CAT5 TO BNC Passive Video and Power...   $13.00   5.000000   \n",
       "4  Allow 15x zoom ups during your recordings.\\nA ...  $210.93   5.000000   \n",
       "5  KIT INCLUDES 8 PRODUCTS -- All Brand New Items...  $469.95   4.760563   \n",
       "6  5x optical zoom; 12-megapixel resolution for p...  $149.99   3.846154   \n",
       "8  14-megapixel resolution for high-quality pictu...  $299.00   3.694915   \n",
       "\n",
       "   review_vol                                        description  \\\n",
       "1           1  cat5 to bnc passive video and power balun tran...   \n",
       "4           6  fujifilm s2100hd 10.0 megapixel 15x optical 5....   \n",
       "5          71  nikon d3100 digital slr camera   18-55mm vr le...   \n",
       "6          13  olympus fe-46 12mp digital camera blue crayola...   \n",
       "8          59  kodak slice 14mp digital camera with schneider...   \n",
       "\n",
       "                                      feature_vector  \n",
       "1  [ 0.  0.  0.  0.  0.  0.  0.  0.  0.  0.  0.  ...  \n",
       "4  [ 0.  0.  0.  0.  0.  0.  0.  0.  0.  0.  0.  ...  \n",
       "5  [ 0.  0.  0.  0.  0.  0.  0.  0.  0.  0.  0.  ...  \n",
       "6  [ 0.  0.  0.  0.  0.  0.  0.  0.  0.  0.  0.  ...  \n",
       "8  [ 0.  0.  0.  0.  0.  0.  0.  0.  0.  0.  0.  ...  "
      ]
     },
     "execution_count": 3,
     "metadata": {},
     "output_type": "execute_result"
    }
   ],
   "source": [
    "#  load product tf-idf vectors\n",
    "prods_original = pd.read_excel('/home/tuna/Projects/CS673/amazon_api/dumps/vectorized_products.xlsx')\n",
    "prods_original.head()"
   ]
  },
  {
   "cell_type": "code",
   "execution_count": 4,
   "metadata": {
    "collapsed": false
   },
   "outputs": [],
   "source": [
    "prod_vectors = prods_original['feature_vector'].as_matrix()\n",
    "prod_vectors = list(prod_vectors.astype('str'))\n",
    "tmp = []\n",
    "for prod_str in prod_vectors:\n",
    "    tmp_array = np.asarray(re.split(\"\\s+\", prod_str.replace('\\n', ' ')[1:-1].strip())).astype(float)\n",
    "    tmp.append(tmp_array)\n",
    "prod_vectors = tmp\n",
    "prod_vectors = np.atleast_2d(prod_vectors)"
   ]
  },
  {
   "cell_type": "code",
   "execution_count": 5,
   "metadata": {
    "collapsed": false
   },
   "outputs": [
    {
     "data": {
      "text/plain": [
       "array([[ 0.,  0.,  0., ...,  0.,  0.,  0.],\n",
       "       [ 0.,  0.,  0., ...,  0.,  0.,  0.],\n",
       "       [ 0.,  0.,  0., ...,  0.,  0.,  0.],\n",
       "       ..., \n",
       "       [ 0.,  0.,  0., ...,  0.,  0.,  0.],\n",
       "       [ 0.,  0.,  0., ...,  0.,  0.,  0.],\n",
       "       [ 0.,  0.,  0., ...,  0.,  0.,  0.]])"
      ]
     },
     "execution_count": 5,
     "metadata": {},
     "output_type": "execute_result"
    }
   ],
   "source": [
    "prod_vectors"
   ]
  },
  {
   "cell_type": "markdown",
   "metadata": {},
   "source": [
    "#  Clean Product Vectors"
   ]
  },
  {
   "cell_type": "code",
   "execution_count": 6,
   "metadata": {
    "collapsed": false
   },
   "outputs": [],
   "source": [
    "#  change to binary values\n",
    "prod_vectors_cleaned = (prod_vectors > 0).astype(int)"
   ]
  },
  {
   "cell_type": "code",
   "execution_count": 18,
   "metadata": {
    "collapsed": false
   },
   "outputs": [
    {
     "data": {
      "text/plain": [
       "[7, 9, 6, 9, 9, 12, 3, 5, 12, 13]"
      ]
     },
     "execution_count": 18,
     "metadata": {},
     "output_type": "execute_result"
    }
   ],
   "source": [
    "#  make sure the original products have enough descriptors\n",
    "list(prod_vectors_cleaned.sum(axis=1))[:10]"
   ]
  },
  {
   "cell_type": "markdown",
   "metadata": {},
   "source": [
    "#  Test PCA To Ensure It Can Invert Transform"
   ]
  },
  {
   "cell_type": "code",
   "execution_count": 33,
   "metadata": {
    "collapsed": false
   },
   "outputs": [
    {
     "name": "stdout",
     "output_type": "stream",
     "text": [
      "5\n",
      "1000\n"
     ]
    },
    {
     "data": {
      "text/plain": [
       "array([0, 0, 0, 0, 0, 0, 0, 0, 0, 0, 0, 0, 0, 0, 0, 0, 0, 0, 0, 0, 0, 0, 0,\n",
       "       0, 0, 0, 0, 0, 1, 0, 0, 0, 0, 0, 0, 0, 0, 0, 0, 0, 0, 0, 0, 0, 0, 0,\n",
       "       0, 0, 0, 0, 0, 0, 0, 0, 0, 0, 0, 0, 0, 0, 0, 0, 0, 0, 0, 0, 0, 0, 0,\n",
       "       0, 0, 0, 0, 0, 0, 0, 0, 0, 0, 0, 0, 0, 0, 0, 0, 0, 0, 0, 0, 0, 0, 0,\n",
       "       0, 0, 0, 0, 0, 0, 0, 0, 0, 0, 0, 0, 0, 0, 0, 0, 0, 0, 0, 0, 0, 0, 0,\n",
       "       0, 0, 0, 0, 0, 0, 0, 0, 0, 0, 0, 0, 0, 0, 0, 0, 0, 0, 0, 0, 0, 0, 0,\n",
       "       0, 0, 0, 0, 0, 0, 0, 0, 0, 0, 0, 0, 0, 0, 0, 0, 0, 0, 0, 0, 0, 0, 0,\n",
       "       0, 0, 0, 0, 0, 0, 0, 0, 0, 0, 0, 0, 0, 0, 0, 0, 0, 0, 0, 0, 0, 0, 0,\n",
       "       0, 0, 0, 0, 0, 0, 0, 0, 0, 0, 0, 0, 0, 0, 0, 0, 0, 0, 0, 0, 0, 0, 0,\n",
       "       0, 0, 0, 0, 0, 0, 0, 0, 0, 0, 0, 0, 0, 0, 0, 0, 0, 0, 0, 0, 0, 0, 0,\n",
       "       0, 0, 0, 0, 0, 0, 0, 0, 0, 0, 0, 0, 0, 0, 0, 0, 0, 0, 0, 0, 0, 0, 0,\n",
       "       0, 0, 0, 0, 0, 0, 0, 0, 0, 0, 0, 0, 0, 0, 0, 0, 0, 0, 0, 0, 0, 0, 0,\n",
       "       0, 0, 0, 0, 0, 0, 0, 0, 0, 0, 0, 0, 0, 0, 0, 0, 0, 0, 0, 0, 0, 0, 0,\n",
       "       0, 0, 0, 0, 0, 0, 0, 0, 0, 0, 0, 0, 0, 0, 0, 0, 0, 0, 0, 0, 0, 0, 0,\n",
       "       0, 0, 0, 0, 0, 0, 0, 0, 0, 0, 0, 0, 0, 0, 0, 0, 0, 0, 0, 0, 0, 0, 0,\n",
       "       0, 0, 0, 0, 0, 0, 0, 0, 0, 0, 0, 0, 0, 0, 0, 0, 0, 0, 0, 0, 0, 0, 0,\n",
       "       0, 0, 0, 0, 0, 0, 0, 0, 0, 0, 0, 0, 0, 0, 0, 0, 0, 0, 0, 0, 0, 0, 0,\n",
       "       0, 0, 0, 0, 0, 0, 0, 0, 0, 0, 0, 0, 0, 0, 0, 0, 0, 0, 0, 0, 0, 0, 0,\n",
       "       0, 0, 0, 0, 0, 0, 0, 0, 0, 0, 0, 0, 0, 0, 0, 0, 0, 0, 0, 0, 0, 0, 0,\n",
       "       0, 0, 0, 0, 0, 0, 0, 0, 0, 0, 0, 0, 0, 0, 0, 0, 0, 0, 0, 0, 0, 0, 0,\n",
       "       0, 0, 0, 0, 0, 0, 0, 0, 0, 0, 0, 0, 0, 0, 0, 0, 0, 0, 0, 0, 0, 0, 0,\n",
       "       0, 0, 0, 0, 0, 0, 0, 0, 0, 0, 0, 0, 0, 0, 0, 0, 0, 0, 0, 0, 0, 0, 0,\n",
       "       0, 0, 0, 0, 0, 0, 0, 0, 0, 0, 0, 0, 0, 0, 0, 0, 0, 0, 0, 0, 0, 0, 0,\n",
       "       0, 0, 0, 0, 0, 0, 0, 0, 0, 0, 0, 0, 0, 0, 0, 0, 0, 0, 0, 0, 0, 0, 0,\n",
       "       0, 0, 0, 0, 0, 0, 0, 0, 0, 0, 0, 0, 0, 0, 0, 0, 0, 0, 0, 0, 0, 0, 0,\n",
       "       0, 0, 0, 0, 0, 0, 0, 0, 0, 0, 0, 0, 0, 0, 0, 0, 0, 0, 0, 0, 0, 0, 0,\n",
       "       0, 0, 0, 0, 0, 0, 0, 0, 0, 0, 0, 0, 0, 0, 0, 0, 0, 0, 0, 0, 0, 0, 0,\n",
       "       0, 0, 0, 0, 0, 0, 0, 0, 0, 0, 0, 0, 0, 0, 0, 0, 0, 0, 0, 0, 0, 0, 0,\n",
       "       0, 0, 0, 0, 0, 0, 0, 0, 0, 0, 0, 0, 0, 0, 0, 0, 0, 0, 0, 0, 0, 0, 0,\n",
       "       0, 0, 0, 0, 0, 0, 0, 0, 0, 0, 0, 0, 0, 0, 0, 0, 0, 0, 0, 0, 0, 0, 0,\n",
       "       0, 0, 0, 0, 0, 0, 0, 0, 0, 0, 0, 0, 0, 0, 0, 0, 0, 0, 0, 0, 0, 0, 0,\n",
       "       0, 0, 0, 1, 0, 0, 0, 0, 0, 0, 0, 0, 0, 0, 0, 0, 0, 0, 0, 0, 0, 0, 0,\n",
       "       0, 0, 0, 0, 0, 0, 0, 0, 0, 0, 0, 0, 0, 0, 0, 0, 0, 0, 0, 0, 0, 0, 0,\n",
       "       0, 0, 0, 0, 0, 0, 0, 0, 0, 0, 0, 0, 0, 0, 0, 0, 0, 0, 0, 0, 0, 0, 0,\n",
       "       0, 0, 0, 0, 0, 0, 0, 0, 0, 0, 0, 0, 0, 0, 0, 0, 0, 0, 0, 0, 0, 0, 0,\n",
       "       0, 0, 0, 0, 0, 0, 0, 0, 0, 0, 0, 0, 0, 0, 0, 0, 0, 0, 0, 0, 0, 0, 0,\n",
       "       0, 0, 0, 0, 0, 0, 0, 0, 0, 0, 0, 0, 0, 0, 0, 0, 0, 1, 0, 0, 0, 0, 0,\n",
       "       0, 0, 0, 0, 0, 0, 0, 0, 0, 0, 0, 0, 0, 0, 0, 0, 0, 0, 0, 0, 0, 0, 0,\n",
       "       0, 0, 0, 0, 0, 0, 0, 0, 0, 0, 0, 0, 0, 0, 0, 0, 0, 0, 0, 0, 0, 0, 0,\n",
       "       0, 0, 0, 0, 0, 0, 0, 0, 0, 0, 0, 0, 0, 0, 0, 0, 0, 0, 0, 0, 0, 0, 0,\n",
       "       0, 0, 0, 0, 0, 0, 0, 0, 0, 0, 0, 0, 0, 0, 0, 0, 0, 0, 0, 0, 0, 0, 0,\n",
       "       0, 0, 0, 0, 0, 0, 0, 0, 0, 0, 0, 0, 0, 0, 0, 0, 0, 0, 0, 0, 0, 0, 0,\n",
       "       0, 0, 0, 0, 0, 0, 0, 0, 0, 0, 0, 0, 0, 0, 0, 0, 0, 0, 0, 0, 0, 0, 0,\n",
       "       0, 0, 0, 0, 0, 0, 0, 1, 0, 0, 1])"
      ]
     },
     "execution_count": 33,
     "metadata": {},
     "output_type": "execute_result"
    }
   ],
   "source": [
    "test_vector_original = prod_vectors_cleaned[7]\n",
    "print(sum(test_vector_original))\n",
    "print(len(test_vector_original))\n",
    "test_vector_original"
   ]
  },
  {
   "cell_type": "code",
   "execution_count": 34,
   "metadata": {
    "collapsed": true
   },
   "outputs": [],
   "source": [
    "# these settings worked for a vocab of 120 words, working with 1000 now\n",
    "# kpca_model_test = KernelPCA(n_components=2, kernel='poly', fit_inverse_transform=True, n_jobs=-1,\n",
    "#                            degree=4)\n",
    "#  second highest performing, better in some domaines\n",
    "# theshold_inv_value = 0.3\n",
    "# kpca_model_test = KernelPCA(n_components=2, kernel='sigmoid', fit_inverse_transform=True, n_jobs=-1,\n",
    "#                            degree=4)"
   ]
  },
  {
   "cell_type": "code",
   "execution_count": 35,
   "metadata": {
    "collapsed": false
   },
   "outputs": [
    {
     "name": "stderr",
     "output_type": "stream",
     "text": [
      "/home/tuna/anaconda3/envs/py27/lib/python2.7/site-packages/sklearn/utils/validation.py:395: DeprecationWarning: Passing 1d arrays as data is deprecated in 0.17 and will raise ValueError in 0.19. Reshape your data either using X.reshape(-1, 1) if your data has a single feature or X.reshape(1, -1) if it contains a single sample.\n",
      "  DeprecationWarning)\n",
      "/home/tuna/anaconda3/envs/py27/lib/python2.7/site-packages/sklearn/utils/validation.py:395: DeprecationWarning: Passing 1d arrays as data is deprecated in 0.17 and will raise ValueError in 0.19. Reshape your data either using X.reshape(-1, 1) if your data has a single feature or X.reshape(1, -1) if it contains a single sample.\n",
      "  DeprecationWarning)\n",
      "/home/tuna/anaconda3/envs/py27/lib/python2.7/site-packages/sklearn/utils/validation.py:395: DeprecationWarning: Passing 1d arrays as data is deprecated in 0.17 and will raise ValueError in 0.19. Reshape your data either using X.reshape(-1, 1) if your data has a single feature or X.reshape(1, -1) if it contains a single sample.\n",
      "  DeprecationWarning)\n",
      "/home/tuna/anaconda3/envs/py27/lib/python2.7/site-packages/sklearn/utils/validation.py:395: DeprecationWarning: Passing 1d arrays as data is deprecated in 0.17 and will raise ValueError in 0.19. Reshape your data either using X.reshape(-1, 1) if your data has a single feature or X.reshape(1, -1) if it contains a single sample.\n",
      "  DeprecationWarning)\n",
      "/home/tuna/anaconda3/envs/py27/lib/python2.7/site-packages/sklearn/utils/validation.py:395: DeprecationWarning: Passing 1d arrays as data is deprecated in 0.17 and will raise ValueError in 0.19. Reshape your data either using X.reshape(-1, 1) if your data has a single feature or X.reshape(1, -1) if it contains a single sample.\n",
      "  DeprecationWarning)\n",
      "/home/tuna/anaconda3/envs/py27/lib/python2.7/site-packages/sklearn/utils/validation.py:395: DeprecationWarning: Passing 1d arrays as data is deprecated in 0.17 and will raise ValueError in 0.19. Reshape your data either using X.reshape(-1, 1) if your data has a single feature or X.reshape(1, -1) if it contains a single sample.\n",
      "  DeprecationWarning)\n",
      "/home/tuna/anaconda3/envs/py27/lib/python2.7/site-packages/sklearn/utils/validation.py:395: DeprecationWarning: Passing 1d arrays as data is deprecated in 0.17 and will raise ValueError in 0.19. Reshape your data either using X.reshape(-1, 1) if your data has a single feature or X.reshape(1, -1) if it contains a single sample.\n",
      "  DeprecationWarning)\n",
      "/home/tuna/anaconda3/envs/py27/lib/python2.7/site-packages/sklearn/utils/validation.py:395: DeprecationWarning: Passing 1d arrays as data is deprecated in 0.17 and will raise ValueError in 0.19. Reshape your data either using X.reshape(-1, 1) if your data has a single feature or X.reshape(1, -1) if it contains a single sample.\n",
      "  DeprecationWarning)\n"
     ]
    },
    {
     "name": "stdout",
     "output_type": "stream",
     "text": [
      "[0 1 0 0 1]\n",
      "[ 0.03724419  0.0313692   0.02885998  0.02621317  0.03020065]\n",
      "('Accuracy:', 0.971)\n",
      "('Pos Accuracy:', 0.4)\n"
     ]
    }
   ],
   "source": [
    "#    reduce the featurs down to 2 dimensions, find the gaps with e clustering algorithm,\n",
    "#    then use kernel PCA to fransform these points back into features mappings\n",
    "#    these final mappings will be the proposed projects\n",
    "theshold_inv_value = 0.03\n",
    "kpca_model_test = KernelPCA(n_components=2, kernel='poly', fit_inverse_transform=True, n_jobs=-1,\n",
    "                           degree=4)\n",
    "#  second highest performing, better in some domaines\n",
    "# theshold_inv_value = 0.03\n",
    "# kpca_model_test = KernelPCA(n_components=2, kernel='sigmoid', fit_inverse_transform=True, n_jobs=-1,\n",
    "#                            degree=4)\n",
    "kpca_model_test.fit(prod_vectors)\n",
    "\n",
    "\n",
    "embedding_test = kpca_model_test.transform(test_vector_original)\n",
    "inverted_transform_test = kpca_model_test.inverse_transform(embedding_test)[0]\n",
    "\n",
    "print(test_vector_original[-5:])\n",
    "print(inverted_transform_test[-5:])\n",
    "def filter_inverted(inverted_values):\n",
    "    return (inverted_values > theshold_inv_value).astype(int)\n",
    "inverted_transform_test_filtered = filter_inverted(inverted_transform_test)\n",
    "\n",
    "# print(inverted_transform_test_filtered)\n",
    "# print(test_vector_original)\n",
    "acc_values = ((inverted_transform_test_filtered - test_vector_original) == 0).astype(int)\n",
    "accuracy = float(sum(acc_values)) / len(acc_values)\n",
    "print(\"Accuracy:\", accuracy)\n",
    "\n",
    "\n",
    "positive_values_original = (test_vector_original > 0)\n",
    "acc_pos_values = ((inverted_transform_test_filtered[positive_values_original] - \\\n",
    "               test_vector_original[positive_values_original]) == 0).astype(int)\n",
    "accuracy_pos = float(sum(acc_pos_values)) / len(acc_pos_values)\n",
    "print(\"Pos Accuracy:\", accuracy_pos)"
   ]
  },
  {
   "cell_type": "code",
   "execution_count": null,
   "metadata": {
    "collapsed": true
   },
   "outputs": [],
   "source": []
  },
  {
   "cell_type": "code",
   "execution_count": null,
   "metadata": {
    "collapsed": true
   },
   "outputs": [],
   "source": []
  },
  {
   "cell_type": "code",
   "execution_count": null,
   "metadata": {
    "collapsed": true
   },
   "outputs": [],
   "source": []
  },
  {
   "cell_type": "code",
   "execution_count": null,
   "metadata": {
    "collapsed": true
   },
   "outputs": [],
   "source": []
  },
  {
   "cell_type": "markdown",
   "metadata": {},
   "source": [
    "#  Model\n"
   ]
  },
  {
   "cell_type": "code",
   "execution_count": 36,
   "metadata": {
    "collapsed": false
   },
   "outputs": [
    {
     "data": {
      "text/plain": [
       "KernelPCA(alpha=1.0, coef0=1, copy_X=True, degree=4, eigen_solver='auto',\n",
       "     fit_inverse_transform=True, gamma=None, kernel='poly',\n",
       "     kernel_params=None, max_iter=None, n_components=2, n_jobs=-1,\n",
       "     random_state=None, remove_zero_eig=False, tol=0)"
      ]
     },
     "execution_count": 36,
     "metadata": {},
     "output_type": "execute_result"
    }
   ],
   "source": [
    "#    reduce the featurs down to 2 dimensions, find the gaps with e clustering algorithm,\n",
    "#    then use kernel PCA to fransform these points back into features mappings\n",
    "#    these final mappings will be the proposed projects\n",
    "theshold_inv_value = 0.03\n",
    "kpca_model = KernelPCA(n_components=2, kernel='poly', fit_inverse_transform=True, n_jobs=-1,\n",
    "                           degree=4)\n",
    "kpca_model.fit(prod_vectors)"
   ]
  },
  {
   "cell_type": "code",
   "execution_count": 37,
   "metadata": {
    "collapsed": false
   },
   "outputs": [
    {
     "data": {
      "text/plain": [
       "<matplotlib.collections.PathCollection at 0x7f24ec31e610>"
      ]
     },
     "execution_count": 37,
     "metadata": {},
     "output_type": "execute_result"
    },
    {
     "data": {
      "image/png": "[encoded data removed]",
      "text/plain": [
       "<matplotlib.figure.Figure at 0x7f24ed0d91d0>"
      ]
     },
     "metadata": {},
     "output_type": "display_data"
    }
   ],
   "source": [
    "embedded_prods = kpca_model.transform(prod_vectors)\n",
    "plt.scatter(embedded_prods[:,0], embedded_prods[:,1])"
   ]
  },
  {
   "cell_type": "code",
   "execution_count": 38,
   "metadata": {
    "collapsed": false
   },
   "outputs": [
    {
     "data": {
      "text/plain": [
       "array([[-0.00723311,  0.00633656],\n",
       "       [-0.00504784,  0.0049597 ],\n",
       "       [ 0.1222633 , -0.03662505],\n",
       "       ..., \n",
       "       [-0.00573147,  0.01088439],\n",
       "       [-0.00394185,  0.00915239],\n",
       "       [-0.00245405,  0.00892002]])"
      ]
     },
     "execution_count": 38,
     "metadata": {},
     "output_type": "execute_result"
    }
   ],
   "source": [
    "embedded_prods"
   ]
  },
  {
   "cell_type": "code",
   "execution_count": null,
   "metadata": {
    "collapsed": true
   },
   "outputs": [],
   "source": []
  },
  {
   "cell_type": "code",
   "execution_count": null,
   "metadata": {
    "collapsed": true
   },
   "outputs": [],
   "source": []
  },
  {
   "cell_type": "markdown",
   "metadata": {},
   "source": [
    "#  Cluster To Find Vaccum"
   ]
  },
  {
   "cell_type": "code",
   "execution_count": 86,
   "metadata": {
    "collapsed": false
   },
   "outputs": [
    {
     "data": {
      "image/png": "[encoded data removed]",
      "text/plain": [
       "<matplotlib.figure.Figure at 0x7f24ecbe5d90>"
      ]
     },
     "metadata": {},
     "output_type": "display_data"
    }
   ],
   "source": [
    "from scipy.spatial import Voronoi, voronoi_plot_2d\n",
    "vor = Voronoi(embedded_prods)\n",
    "\n",
    "voronoi_plot_2d(vor)\n",
    "plt.show()\n",
    "\n"
   ]
  },
  {
   "cell_type": "code",
   "execution_count": 89,
   "metadata": {
    "collapsed": false
   },
   "outputs": [
    {
     "data": {
      "text/plain": [
       "<matplotlib.figure.Figure at 0x7f24dc094050>"
      ]
     },
     "execution_count": 89,
     "metadata": {},
     "output_type": "execute_result"
    },
    {
     "data": {
      "image/png": "[encoded data removed]",
      "text/plain": [
       "<matplotlib.figure.Figure at 0x7f24dc094450>"
      ]
     },
     "metadata": {},
     "output_type": "display_data"
    },
    {
     "data": {
      "text/plain": [
       "<matplotlib.figure.Figure at 0x7f24dc094050>"
      ]
     },
     "metadata": {},
     "output_type": "display_data"
    }
   ],
   "source": [
    "plt.scatter(embedded_prods[:,0], embedded_prods[:,1])\n"
   ]
  },
  {
   "cell_type": "code",
   "execution_count": 41,
   "metadata": {
    "collapsed": false
   },
   "outputs": [],
   "source": [
    "closest_prods = []\n",
    "for vert in vor.vertices:\n",
    "    closest_prod = 9999999999\n",
    "    for point in embedded_prods:\n",
    "        distance = np.linalg.norm(vert - point)\n",
    "        if distance < closest_prod:\n",
    "            closest_prod = distance\n",
    "    closest_prods.append(closest_prod)"
   ]
  },
  {
   "cell_type": "markdown",
   "metadata": {},
   "source": [
    "#  FInd Empty Space Proposals"
   ]
  },
  {
   "cell_type": "code",
   "execution_count": 44,
   "metadata": {
    "collapsed": false
   },
   "outputs": [
    {
     "data": {
      "text/plain": [
       "array([[ 1.42322199,  3.01622604,  3.29445932],\n",
       "       [-1.18932515,  0.05790211,  1.1321522 ],\n",
       "       [ 0.56989645,  0.75216309,  0.87653677]])"
      ]
     },
     "execution_count": 44,
     "metadata": {},
     "output_type": "execute_result"
    }
   ],
   "source": [
    "#  only keep the top 2000 largest spaces\n",
    "top_3000_empty_spaces = sorted(np.hstack((vor.vertices, np.atleast_2d(closest_prods).T)), \n",
    "                               key=lambda x: -x[2])[:3000]\n",
    "top_3000_empty_spaces = np.atleast_2d(top_3000_empty_spaces)\n",
    "top_3000_empty_spaces[:3]"
   ]
  },
  {
   "cell_type": "code",
   "execution_count": 45,
   "metadata": {
    "collapsed": true
   },
   "outputs": [],
   "source": [
    "#  then I need to weight them based on how close they are to the mean of the data"
   ]
  },
  {
   "cell_type": "code",
   "execution_count": 46,
   "metadata": {
    "collapsed": true
   },
   "outputs": [],
   "source": [
    "all_prod_mean = embedded_prods.mean(axis=0)\n",
    "\n",
    "distances_to_all_prod_mean = []\n",
    "for empty_space_center in top_3000_empty_spaces:\n",
    "    distance = np.linalg.norm(empty_space_center[:2] - all_prod_mean)\n",
    "    distances_to_all_prod_mean.append(distance)"
   ]
  },
  {
   "cell_type": "code",
   "execution_count": 47,
   "metadata": {
    "collapsed": false
   },
   "outputs": [
    {
     "data": {
      "text/plain": [
       "array([ -9.88880865e-15,  -1.07576922e-14])"
      ]
     },
     "execution_count": 47,
     "metadata": {},
     "output_type": "execute_result"
    }
   ],
   "source": [
    "all_prod_mean"
   ]
  },
  {
   "cell_type": "code",
   "execution_count": 48,
   "metadata": {
    "collapsed": false
   },
   "outputs": [
    {
     "data": {
      "text/plain": [
       "[3.335143228331038,\n",
       " 1.1907337902976534,\n",
       " 0.94367964800576343,\n",
       " 0.88195679949671146,\n",
       " 0.66684099547264142,\n",
       " 0.67495358957432505,\n",
       " 0.60268496733248822,\n",
       " 0.49336748051898038,\n",
       " 0.61434956431376109,\n",
       " 0.55474620459078128,\n",
       " 0.57512935714127655,\n",
       " 0.38175203587925138,\n",
       " 0.48351460409934244,\n",
       " 0.48015642305615619,\n",
       " 0.36069427218289352,\n",
       " 0.35422813666362402,\n",
       " 0.49638472430091168,\n",
       " 0.41462339394630759,\n",
       " 0.39242664432026841,\n",
       " 0.39019846380520695,\n",
       " 0.38241737739016052,\n",
       " 0.36752153472980853,\n",
       " 0.35851476481911981,\n",
       " 0.34179090800142015,\n",
       " 0.34115667597991045,\n",
       " 0.50520031473559823,\n",
       " 0.2424415486763746,\n",
       " 0.29475449733345699,\n",
       " 0.28738878691337261,\n",
       " 0.33764408857636174,\n",
       " 0.22045680591199662,\n",
       " 0.26881747621817265,\n",
       " 0.25011058033259514,\n",
       " 0.24505808426809159,\n",
       " 0.23753630888073202,\n",
       " 0.21219707379924538,\n",
       " 0.21162044678534395,\n",
       " 0.2266308915277972,\n",
       " 0.19023524883510803,\n",
       " 0.24095122851537085,\n",
       " 0.18467163101550838,\n",
       " 0.17595391007581007,\n",
       " 0.20975516269610694,\n",
       " 0.1377227537509432,\n",
       " 0.13217248208027935,\n",
       " 0.27409409848903954,\n",
       " 0.15438576364453349,\n",
       " 0.15291768185119223,\n",
       " 0.29967060942765372,\n",
       " 0.2023738321945098,\n",
       " 0.15990876560600203,\n",
       " 0.20334298901269521,\n",
       " 0.21956677621119605,\n",
       " 0.21442866812647485,\n",
       " 0.32145272515183593,\n",
       " 0.10264996951074569,\n",
       " 0.10181407974749529,\n",
       " 0.23560202765903299,\n",
       " 0.38644066548861211,\n",
       " 0.21431111171150263,\n",
       " 0.23410306195699762,\n",
       " 0.30974130968461155,\n",
       " 0.10450301090390203,\n",
       " 0.20907696400798903,\n",
       " 0.3214274885750632,\n",
       " 0.084208453874335634,\n",
       " 0.23076085530556589,\n",
       " 0.37308778480711502,\n",
       " 0.27369030351021517,\n",
       " 0.29807346961561842,\n",
       " 0.10499279958863517,\n",
       " 0.32575303057835875,\n",
       " 0.083749148095990114,\n",
       " 0.22971080607750252,\n",
       " 0.3241895433496495,\n",
       " 0.14244100991214489,\n",
       " 0.20538424531419089,\n",
       " 0.099048362498631415,\n",
       " 0.10118027577965201,\n",
       " 0.27220912592729996,\n",
       " 0.14163567718881939,\n",
       " 0.10069398570760268,\n",
       " 0.21507157792065038,\n",
       " 0.2737863598302569,\n",
       " 0.32402306545217074,\n",
       " 0.39041309737859026,\n",
       " 0.072787477148548704,\n",
       " 0.27262291410649103,\n",
       " 0.25184241812253821,\n",
       " 0.073573484646803022,\n",
       " 0.12016894042511943,\n",
       " 0.073292008001897016,\n",
       " 0.10841108748726574,\n",
       " 0.27486575806249619,\n",
       " 0.24958196269031338,\n",
       " 0.10705891109107879,\n",
       " 0.27465406778972734,\n",
       " 0.20637034057400669,\n",
       " 0.097086596044274276,\n",
       " 0.2133533673577305,\n",
       " 0.046595173755491513,\n",
       " 0.065311571132784241,\n",
       " 0.089941054884839666,\n",
       " 0.28736429632598715,\n",
       " 0.089817827341376541,\n",
       " 0.2494664730376468,\n",
       " 0.18608671027294305,\n",
       " 0.07895092122253182,\n",
       " 0.12865727851665559,\n",
       " 0.059246651714239054,\n",
       " 0.31025288139274815,\n",
       " 0.18521941358125288,\n",
       " 0.039354068288420689,\n",
       " 0.14230543820761904,\n",
       " 0.25881081241852327,\n",
       " 0.26408518616330812,\n",
       " 0.18329822384803823,\n",
       " 0.1864121698073975,\n",
       " 0.14183043603041115,\n",
       " 0.060592424097157364,\n",
       " 0.31146720947212381,\n",
       " 0.099674580045186048,\n",
       " 0.22267765142098889,\n",
       " 0.2039950994885503,\n",
       " 0.055709399301132285,\n",
       " 0.22510734772055566,\n",
       " 0.1660431776726724,\n",
       " 0.041236584802090762,\n",
       " 0.054994987146394607,\n",
       " 0.29442315428650562,\n",
       " 0.36194007827983077,\n",
       " 0.14661841189753855,\n",
       " 0.28034817731530665,\n",
       " 0.031931294979053185,\n",
       " 0.24992133606930922,\n",
       " 0.031399320272624126,\n",
       " 0.28249904376756674,\n",
       " 0.22320290633402706,\n",
       " 0.043423642991934804,\n",
       " 0.20289630241327555,\n",
       " 0.18463890849007303,\n",
       " 0.074561743808866987,\n",
       " 0.095662726684850583,\n",
       " 0.24172386093562451,\n",
       " 0.2805721186767714,\n",
       " 0.2129082657666338,\n",
       " 0.057355393392372923,\n",
       " 0.041847750922942878,\n",
       " 0.21141635121634456,\n",
       " 0.077313053456443417,\n",
       " 0.057494821432157256,\n",
       " 0.071574133735767445,\n",
       " 0.18688748542006653,\n",
       " 0.059363992306874544,\n",
       " 0.098778622393963039,\n",
       " 0.028107240804925382,\n",
       " 0.17423486751453449,\n",
       " 0.28154455111386623,\n",
       " 0.067828322578432867,\n",
       " 0.3449918602142148,\n",
       " 0.22638958574067175,\n",
       " 0.21102058767672094,\n",
       " 0.21152095204261681,\n",
       " 0.061086550748269783,\n",
       " 0.050010992593003553,\n",
       " 0.049714612598282908,\n",
       " 0.043066665269902028,\n",
       " 0.043505687268980811,\n",
       " 0.060934201318412637,\n",
       " 0.25523493645577278,\n",
       " 0.3050843670496996,\n",
       " 0.24138784435977795,\n",
       " 0.0537535784176544,\n",
       " 0.098835265633567024,\n",
       " 0.047062058527451392,\n",
       " 0.044706976720144641,\n",
       " 0.047394048551146678,\n",
       " 0.27175181846528074,\n",
       " 0.096121868117796549,\n",
       " 0.25484419581680484,\n",
       " 0.052828428287265035,\n",
       " 0.24066759204652177,\n",
       " 0.030275446540644197,\n",
       " 0.075603757627478868,\n",
       " 0.048097533914665341,\n",
       " 0.048156982484931353,\n",
       " 0.16111079119702673,\n",
       " 0.057460639173364692,\n",
       " 0.1331858789210878,\n",
       " 0.28432741899917868,\n",
       " 0.077667634827925353,\n",
       " 0.048925725867090174,\n",
       " 0.18507223299322723,\n",
       " 0.029078276699878815,\n",
       " 0.073735546687494838,\n",
       " 0.049078350914900919,\n",
       " 0.16592954032573692,\n",
       " 0.098965707607964082,\n",
       " 0.32606383240516001,\n",
       " 0.1622755898821937,\n",
       " 0.27037433023078999,\n",
       " 0.069548884114875101,\n",
       " 0.2652642260341021,\n",
       " 0.069603963053913989,\n",
       " 0.02292868492735985,\n",
       " 0.050145740846181883,\n",
       " 0.077542357206440399,\n",
       " 0.089110066295549822,\n",
       " 0.029059834851798062,\n",
       " 0.28238767705484219,\n",
       " 0.12248990217393302,\n",
       " 0.041062498775671891,\n",
       " 0.051258599150558887,\n",
       " 0.24288959540694863,\n",
       " 0.064176472123571082,\n",
       " 0.079702269933322273,\n",
       " 0.020660843165851137,\n",
       " 0.04203823704487359,\n",
       " 0.068921285309507502,\n",
       " 0.028799176389049764,\n",
       " 0.01906563656417324,\n",
       " 0.33793093575879607,\n",
       " 0.041632173403318908,\n",
       " 0.028702928895575432,\n",
       " 0.023594798874563359,\n",
       " 0.066505565117954482,\n",
       " 0.30319370394463746,\n",
       " 0.042041385466553116,\n",
       " 0.2091820716324935,\n",
       " 0.043248471076930223,\n",
       " 0.19713294014266977,\n",
       " 0.16383207094914604,\n",
       " 0.23966746832819064,\n",
       " 0.17983166843100945,\n",
       " 0.11523563114244549,\n",
       " 0.19896744310215689,\n",
       " 0.064179388632850928,\n",
       " 0.023414466042835109,\n",
       " 0.043299778267252016,\n",
       " 0.20604782462633403,\n",
       " 0.043294342140019863,\n",
       " 0.167459076118292,\n",
       " 0.28706715040972824,\n",
       " 0.1757708170800239,\n",
       " 0.17325051939634614,\n",
       " 0.045922588627216716,\n",
       " 0.17276987865357826,\n",
       " 0.17368801045540982,\n",
       " 0.029410010671725023,\n",
       " 0.04123039539532615,\n",
       " 0.055204248118532688,\n",
       " 0.062095471835207729,\n",
       " 0.05606636320620461,\n",
       " 0.22731153702951234,\n",
       " 0.17667118633083093,\n",
       " 0.098795642621112928,\n",
       " 0.23233850601547834,\n",
       " 0.21513599799950925,\n",
       " 0.24474024963511104,\n",
       " 0.056140827785903874,\n",
       " 0.26085951182127171,\n",
       " 0.01418054429186949,\n",
       " 0.17510320061069681,\n",
       " 0.039923596634352986,\n",
       " 0.082759431667895414,\n",
       " 0.03985286447700178,\n",
       " 0.23874376348633825,\n",
       " 0.030852301248388773,\n",
       " 0.23113785111349969,\n",
       " 0.053424504246182579,\n",
       " 0.094970381653131486,\n",
       " 0.068655901107002135,\n",
       " 0.19859825582230431,\n",
       " 0.031117471374291696,\n",
       " 0.031155821598152875,\n",
       " 0.075351742106218936,\n",
       " 0.064622342656337803,\n",
       " 0.1328031723196918,\n",
       " 0.06401800260886803,\n",
       " 0.06327324688566327,\n",
       " 0.2000904703675162,\n",
       " 0.24181756442108224,\n",
       " 0.24180666564584433,\n",
       " 0.2214850280529384,\n",
       " 0.080485533301851236,\n",
       " 0.095000699481080725,\n",
       " 0.21117671512244049,\n",
       " 0.05505454127398305,\n",
       " 0.21962773134991354,\n",
       " 0.1911515833818524,\n",
       " 0.034569273698833003,\n",
       " 0.27249653622351244,\n",
       " 0.19440504434724934,\n",
       " 0.048823003296191825,\n",
       " 0.032784526768470899,\n",
       " 0.011308505710257072,\n",
       " 0.20751882793080351,\n",
       " 0.20949365798535996,\n",
       " 0.20698010788500168,\n",
       " 0.17986831666042521,\n",
       " 0.055151185041611678,\n",
       " 0.22194686903480604,\n",
       " 0.064825076379243507,\n",
       " 0.17987472048994418,\n",
       " 0.20602119349873685,\n",
       " 0.039606429515279859,\n",
       " 0.19854214315743515,\n",
       " 0.03161136142850348,\n",
       " 0.058641695554749726,\n",
       " 0.042417048475174982,\n",
       " 0.032388397753012312,\n",
       " 0.25438324517432392,\n",
       " 0.18006520773816842,\n",
       " 0.039634638454971248,\n",
       " 0.31285143197618476,\n",
       " 0.053239777825564341,\n",
       " 0.011022413401213738,\n",
       " 0.098169942416290637,\n",
       " 0.085655041205350488,\n",
       " 0.028946141934812108,\n",
       " 0.01687191389311567,\n",
       " 0.054166813344654757,\n",
       " 0.25501828869924892,\n",
       " 0.18067514438294233,\n",
       " 0.29039935505135384,\n",
       " 0.13239067443001484,\n",
       " 0.039521036469908385,\n",
       " 0.13668338960169943,\n",
       " 0.2663408510378788,\n",
       " 0.13670072899650207,\n",
       " 0.29126737103479089,\n",
       " 0.032817324390712908,\n",
       " 0.27248840386898326,\n",
       " 0.054177096043556583,\n",
       " 0.050978844919871244,\n",
       " 0.23734452287469646,\n",
       " 0.18874327271590471,\n",
       " 0.15074738349592515,\n",
       " 0.099598234599844321,\n",
       " 0.067878795741350736,\n",
       " 0.12112672842592952,\n",
       " 0.058734672355076928,\n",
       " 0.0366329759401193,\n",
       " 0.0098289648865182155,\n",
       " 0.15116098360445324,\n",
       " 0.29310803908276656,\n",
       " 0.22631299935283561,\n",
       " 0.1409643420537246,\n",
       " 0.03254195831105236,\n",
       " 0.018767919045311068,\n",
       " 0.19951470726181122,\n",
       " 0.13885380049238633,\n",
       " 0.23702689273380881,\n",
       " 0.021407679306083449,\n",
       " 0.33984356473441618,\n",
       " 0.21931688062034194,\n",
       " 0.02134383538172031,\n",
       " 0.1360057438030263,\n",
       " 0.13688605610370619,\n",
       " 0.2606893391480391,\n",
       " 0.13908308593379512,\n",
       " 0.13907908272964428,\n",
       " 0.18060452507526722,\n",
       " 0.029281199754913004,\n",
       " 0.025360441265497469,\n",
       " 0.027043368617260262,\n",
       " 0.031464157637666419,\n",
       " 0.15166857638097672,\n",
       " 0.044800991985631651,\n",
       " 0.12172085677330095,\n",
       " 0.035910442306260691,\n",
       " 0.059067673888134498,\n",
       " 0.029568409842265071,\n",
       " 0.2076918946111376,\n",
       " 0.028660236628289499,\n",
       " 0.18921726835212824,\n",
       " 0.15169303882764712,\n",
       " 0.18058752173189088,\n",
       " 0.054564434889519113,\n",
       " 0.17164668012219569,\n",
       " 0.15615146977179309,\n",
       " 0.037495392485340014,\n",
       " 0.15608639620265494,\n",
       " 0.026690779643070088,\n",
       " 0.23639053927012577,\n",
       " 0.025382351704025388,\n",
       " 0.23468575801698655,\n",
       " 0.021714352983849987,\n",
       " 0.028023638022706118,\n",
       " 0.15457665899257594,\n",
       " 0.02236962721414203,\n",
       " 0.028522657048805761,\n",
       " 0.061920299075602911,\n",
       " 0.025228502811729555,\n",
       " 0.14825873002598855,\n",
       " 0.073442718226639489,\n",
       " 0.044527273989701639,\n",
       " 0.12295445853143776,\n",
       " 0.1473525755823949,\n",
       " 0.02878492311661781,\n",
       " 0.02953029382861275,\n",
       " 0.026834676015506737,\n",
       " 0.049186016735537658,\n",
       " 0.18793297915242321,\n",
       " 0.18269708888715958,\n",
       " 0.073422658603715843,\n",
       " 0.20539165701555565,\n",
       " 0.064352250317822476,\n",
       " 0.035434419305035665,\n",
       " 0.18792573076002167,\n",
       " 0.11060060685765118,\n",
       " 0.029691068460983388,\n",
       " 0.029523382601807278,\n",
       " 0.20384994352069052,\n",
       " 0.14682731764058771,\n",
       " 0.1892496421750974,\n",
       " 0.060429442609406747,\n",
       " 0.018543711863748164,\n",
       " 0.19875228319950339,\n",
       " 0.017033321169833044,\n",
       " 0.064189787325204209,\n",
       " 0.21545178813554269,\n",
       " 0.029853824298403085,\n",
       " 0.21136166151916466,\n",
       " 0.16874733733562217,\n",
       " 0.18754328683121857,\n",
       " 0.23183559954554869,\n",
       " 0.025508158084525213,\n",
       " 0.066578335337786829,\n",
       " 0.047604374692246224,\n",
       " 0.11705682799665831,\n",
       " 0.16875627261520773,\n",
       " 0.10989548938888871,\n",
       " 0.19187551984702753,\n",
       " 0.1172103779453868,\n",
       " 0.041105318266745988,\n",
       " 0.15540513210193305,\n",
       " 0.21780132040342606,\n",
       " 0.025309104216521914,\n",
       " 0.044218829327159308,\n",
       " 0.11032905486206684,\n",
       " 0.029843268516371754,\n",
       " 0.040694997736582646,\n",
       " 0.23192670930478615,\n",
       " 0.035225787890176809,\n",
       " 0.073533064921378025,\n",
       " 0.19156889499464985,\n",
       " 0.24159801423295904,\n",
       " 0.07443055546293334,\n",
       " 0.047349223144860932,\n",
       " 0.069816878324896511,\n",
       " 0.34592128728503313,\n",
       " 0.0095645584221904119,\n",
       " 0.11660034029803261,\n",
       " 0.15824552114631737,\n",
       " 0.24707489212926076,\n",
       " 0.0074779342209832563,\n",
       " 0.18718817657679396,\n",
       " 0.22563604771602019,\n",
       " 0.036795752548092364,\n",
       " 0.027486159131087925,\n",
       " 0.10888744869029532,\n",
       " 0.14223299311801132,\n",
       " 0.25387078961634896,\n",
       " 0.034973904761062755,\n",
       " 0.12516835675695037,\n",
       " 0.1089021041822246,\n",
       " 0.10908296551304311,\n",
       " 0.040578173781743589,\n",
       " 0.16759234037790527,\n",
       " 0.093196197175658899,\n",
       " 0.21801603778562331,\n",
       " 0.023756802628500776,\n",
       " 0.015080217992053349,\n",
       " 0.22979899217482,\n",
       " 0.061668363990090562,\n",
       " 0.22985379095299174,\n",
       " 0.19079817746220848,\n",
       " 0.22564418152843219,\n",
       " 0.25368299610741324,\n",
       " 0.046855619178700562,\n",
       " 0.14222724324556543,\n",
       " 0.10941003814816792,\n",
       " 0.29977719969685601,\n",
       " 0.21417355889642234,\n",
       " 0.025310513777137653,\n",
       " 0.15611162227560746,\n",
       " 0.21700001775028144,\n",
       " 0.027779573481022467,\n",
       " 0.027805284558137942,\n",
       " 0.039612510085393744,\n",
       " 0.066361951568525895,\n",
       " 0.028459456383979276,\n",
       " 0.033946984798835865,\n",
       " 0.015881281976167481,\n",
       " 0.01393094335194971,\n",
       " 0.013918038003148519,\n",
       " 0.039124186020227901,\n",
       " 0.040258815577949345,\n",
       " 0.024995091395408228,\n",
       " 0.034055119091580821,\n",
       " 0.032551310060755172,\n",
       " 0.16199135232726072,\n",
       " 0.021158752574120279,\n",
       " 0.20819250028248357,\n",
       " 0.1084086542444444,\n",
       " 0.036744820430304644,\n",
       " 0.22600270222061358,\n",
       " 0.11861941691224882,\n",
       " 0.15080632447306561,\n",
       " 0.046530011519269818,\n",
       " 0.1186339938223126,\n",
       " 0.039695866616173289,\n",
       " 0.15788278556001409,\n",
       " 0.027238373901329035,\n",
       " 0.014896134193562316,\n",
       " 0.2594490191499072,\n",
       " 0.19216678514468197,\n",
       " 0.30132182576721811,\n",
       " 0.24688305237848571,\n",
       " 0.091891778716148509,\n",
       " 0.013981952778456378,\n",
       " 0.19827629679737727,\n",
       " 0.11986828070309792,\n",
       " 0.23130742602545773,\n",
       " 0.034059694590674108,\n",
       " 0.047523571531053514,\n",
       " 0.11859353171962339,\n",
       " 0.10799056632922964,\n",
       " 0.24204560057883298,\n",
       " 0.1969579539197229,\n",
       " 0.12176834431845492,\n",
       " 0.16003583377805192,\n",
       " 0.07593586955036509,\n",
       " 0.032165308316466773,\n",
       " 0.19501987995236733,\n",
       " 0.033851198842101957,\n",
       " 0.045170977424392293,\n",
       " 0.032361205814882547,\n",
       " 0.11230008114970165,\n",
       " 0.083263625692219373,\n",
       " 0.19205702796945492,\n",
       " 0.23003450726938277,\n",
       " 0.15034750336356911,\n",
       " 0.013470448015328868,\n",
       " 0.09831161724538795,\n",
       " 0.24839016281267989,\n",
       " 0.14073834582222222,\n",
       " 0.23326487163321991,\n",
       " 0.24683204332716249,\n",
       " 0.03971836223841748,\n",
       " 0.22073591519305658,\n",
       " 0.27182686596540923,\n",
       " 0.013680764264731615,\n",
       " 0.2431258120716,\n",
       " 0.040044363952857355,\n",
       " 0.10089795765099398,\n",
       " 0.2014841762276055,\n",
       " 0.11238657352543079,\n",
       " 0.036342523868791145,\n",
       " 0.043747381581880698,\n",
       " 0.057738529792740113,\n",
       " 0.1626406463536926,\n",
       " 0.041706909578429846,\n",
       " 0.027228986566930197,\n",
       " 0.019615128139730327,\n",
       " 0.018451887279318843,\n",
       " 0.19829737617900728,\n",
       " 0.073766483373019595,\n",
       " 0.02481349303492791,\n",
       " 0.018534516593582202,\n",
       " 0.11252869239524675,\n",
       " 0.10265010990179121,\n",
       " 0.10037350024632478,\n",
       " 0.041251536831828681,\n",
       " 0.13409634521318214,\n",
       " 0.059613311169318998,\n",
       " 0.10297681127853811,\n",
       " 0.044310968942194211,\n",
       " 0.10706524167000517,\n",
       " 0.12259702335260624,\n",
       " 0.22676601418300307,\n",
       " 0.035949184593061623,\n",
       " 0.22003262828078529,\n",
       " 0.036653138828084318,\n",
       " 0.033640890021434347,\n",
       " 0.039951608114259053,\n",
       " 0.016234679886825944,\n",
       " 0.14210426282698321,\n",
       " 0.076234213760241351,\n",
       " 0.029234927550069768,\n",
       " 0.086373209142054513,\n",
       " 0.055474684975558554,\n",
       " 0.04359864278608383,\n",
       " 0.012939882667609103,\n",
       " 0.029325777689813474,\n",
       " 0.024454090169573055,\n",
       " 0.10328901602849856,\n",
       " 0.0052539331815778835,\n",
       " 0.012939409701611638,\n",
       " 0.12684387152114324,\n",
       " 0.069530050274703575,\n",
       " 0.30537385362111902,\n",
       " 0.20447975249503672,\n",
       " 0.30533125898842522,\n",
       " 0.033932506785248423,\n",
       " 0.044607789728975403,\n",
       " 0.079425107509300721,\n",
       " 0.091941403570419702,\n",
       " 0.052230988406054515,\n",
       " 0.034573770396003678,\n",
       " 0.1882333777420678,\n",
       " 0.035904726472425867,\n",
       " 0.067244516527555892,\n",
       " 0.032802812417603168,\n",
       " 0.091961838908713026,\n",
       " 0.26914870955723225,\n",
       " 0.013398156640352057,\n",
       " 0.043518544465042844,\n",
       " 0.19772283827941414,\n",
       " 0.1622990751945845,\n",
       " 0.020949137080116895,\n",
       " 0.022615940966268865,\n",
       " 0.032056509088999707,\n",
       " 0.018953326776087603,\n",
       " 0.23844290827485989,\n",
       " 0.24794425979510692,\n",
       " 0.032580373283706873,\n",
       " 0.02112723708866783,\n",
       " 0.040023399837023729,\n",
       " 0.026351237544309326,\n",
       " 0.020894863744390917,\n",
       " 0.059168363141730101,\n",
       " 0.0421134030654002,\n",
       " 0.053357486893959923,\n",
       " 0.026364633753322476,\n",
       " 0.032067765166569458,\n",
       " 0.031496320405626985,\n",
       " 0.16727394963881703,\n",
       " 0.16436088058851359,\n",
       " 0.022629626576571343,\n",
       " 0.026405032607540971,\n",
       " 0.025305384502374469,\n",
       " 0.16444626169542137,\n",
       " 0.2261059623095189,\n",
       " 0.05587507327337176,\n",
       " 0.16144745262105115,\n",
       " 0.20528677747792576,\n",
       " 0.055883941863936408,\n",
       " 0.20423011765551813,\n",
       " 0.18194769096497812,\n",
       " 0.17536462710304904,\n",
       " 0.055442649188549728,\n",
       " 0.17534053297533875,\n",
       " 0.029364986389261709,\n",
       " 0.24851782692305444,\n",
       " 0.021597846732001161,\n",
       " 0.057731423759964956,\n",
       " 0.071172072528301558,\n",
       " 0.22715258867164767,\n",
       " 0.054729820438016719,\n",
       " 0.028950291888666626,\n",
       " 0.020669256792634601,\n",
       " 0.19756042233280777,\n",
       " 0.12829673450846166,\n",
       " 0.01317989449026202,\n",
       " 0.054744836900393223,\n",
       " 0.028941109936331873,\n",
       " 0.17995774681699922,\n",
       " 0.24860240726074589,\n",
       " 0.23624276568331301,\n",
       " 0.047365907373877414,\n",
       " 0.12883985332575887,\n",
       " 0.23554104299058951,\n",
       " 0.03753816310040748,\n",
       " 0.22074933569234254,\n",
       " 0.23638582091235305,\n",
       " 0.032226681271946778,\n",
       " 0.15046239498698341,\n",
       " 0.20569000899440731,\n",
       " 0.20420395881189596,\n",
       " 0.041298882520274784,\n",
       " 0.081352636612340531,\n",
       " 0.088602630867948645,\n",
       " 0.018584136364431809,\n",
       " 0.040120582089233879,\n",
       " 0.032209793298716045,\n",
       " 0.018438666130085175,\n",
       " 0.035598419008156232,\n",
       " 0.1633561795449541,\n",
       " 0.018594000113329325,\n",
       " 0.020063660458923802,\n",
       " 0.037374570020474764,\n",
       " 0.034632210070892934,\n",
       " 0.25047180781858042,\n",
       " 0.062912252410332575,\n",
       " 0.047213016675245412,\n",
       " 0.020123478308695687,\n",
       " 0.011482231866038297,\n",
       " 0.048516286216810714,\n",
       " 0.039507840337091864,\n",
       " 0.11767775835981427,\n",
       " 0.020689893074948559,\n",
       " 0.12523272808801461,\n",
       " 0.16141608257320128,\n",
       " 0.11488375507299858,\n",
       " 0.018354487592738087,\n",
       " 0.1899662462564595,\n",
       " 0.035697672500527036,\n",
       " 0.10189129235811797,\n",
       " 0.025935998647756937,\n",
       " 0.041237439282324075,\n",
       " 0.13325162136226903,\n",
       " 0.040452402454774612,\n",
       " 0.0044659864353709918,\n",
       " 0.028438678139484364,\n",
       " 0.03567595159079856,\n",
       " 0.16781733633396803,\n",
       " 0.13001970324165518,\n",
       " 0.040290065158740312,\n",
       " 0.035957877677609211,\n",
       " 0.028413731638571457,\n",
       " 0.13268921282757887,\n",
       " 0.040335165470462113,\n",
       " 0.028966836127150584,\n",
       " 0.25339786896131039,\n",
       " 0.087960461967026199,\n",
       " 0.055627692494229108,\n",
       " 0.221076395999252,\n",
       " 0.062475933600578244,\n",
       " 0.022383667210629767,\n",
       " 0.082148597278282109,\n",
       " 0.01383256164376402,\n",
       " 0.13092764868392454,\n",
       " 0.062272373205860453,\n",
       " 0.082212507005339261,\n",
       " 0.019632041399737548,\n",
       " 0.079799060125316942,\n",
       " 0.013138340601132026,\n",
       " 0.11730461540948668,\n",
       " 0.08400575536131677,\n",
       " 0.079926209614488999,\n",
       " 0.021798956647901959,\n",
       " 0.19269963826754316,\n",
       " 0.19894256869689619,\n",
       " 0.12916125219053973,\n",
       " 0.13763883418819833,\n",
       " 0.13052590680668744,\n",
       " 0.033134352833791486,\n",
       " 0.14885128360318878,\n",
       " 0.022097374851426158,\n",
       " 0.020886863285685665,\n",
       " 0.029686650431592451,\n",
       " 0.14643019842470695,\n",
       " 0.10168237470341336,\n",
       " 0.21557323684511712,\n",
       " 0.021570796341255489,\n",
       " 0.026698011174856671,\n",
       " 0.047060136887823283,\n",
       " 0.033844853421071013,\n",
       " 0.021734240702713434,\n",
       " 0.18872222010678633,\n",
       " 0.18504431485738515,\n",
       " 0.048019449721910357,\n",
       " 0.020287627244552364,\n",
       " 0.021643801346114065,\n",
       " 0.23011848374018518,\n",
       " 0.13234924075105309,\n",
       " 0.01993709807727078,\n",
       " 0.027200485923533357,\n",
       " 0.18893746287445992,\n",
       " 0.164210178844686,\n",
       " 0.047031253568227065,\n",
       " 0.15198902182160226,\n",
       " 0.018799981412053014,\n",
       " 0.065500744685975332,\n",
       " 0.13696724131113053,\n",
       " 0.018805575014349967,\n",
       " 0.044119354160152384,\n",
       " 0.010499527254379439,\n",
       " 0.05789237999538864,\n",
       " 0.077142645112318151,\n",
       " 0.08755082797277193,\n",
       " 0.22584241767277183,\n",
       " 0.088883731019537809,\n",
       " 0.012147518946084816,\n",
       " 0.012846059675974561,\n",
       " 0.19730231034031362,\n",
       " 0.18530216514061612,\n",
       " 0.22587678009015319,\n",
       " 0.040690975756351604,\n",
       " 0.030480961180810635,\n",
       " 0.030138003656833091,\n",
       " 0.12606534030985259,\n",
       " 0.23076600417041782,\n",
       " 0.20335696766749267,\n",
       " 0.14499340890912157,\n",
       " 0.1750114802696997,\n",
       " 0.019598743776892264,\n",
       " 0.10189772521652386,\n",
       " 0.039348387551964646,\n",
       " 0.14476745284522044,\n",
       " 0.14485088405931965,\n",
       " 0.087660033881667723,\n",
       " 0.039330115357601364,\n",
       " 0.047481631818887739,\n",
       " 0.0054461664630190447,\n",
       " 0.21499809844367293,\n",
       " 0.2340262237954174,\n",
       " 0.10508029323964388,\n",
       " 0.026704827202327468,\n",
       " 0.10370692987702429,\n",
       " 0.14536027390721962,\n",
       " 0.017520728927861055,\n",
       " 0.02768115706544402,\n",
       " 0.1974008632078082,\n",
       " 0.046794326175556157,\n",
       " 0.067150647271423017,\n",
       " 0.18597559344713979,\n",
       " 0.15773796098310827,\n",
       " 0.12950443546155549,\n",
       " 0.021207907290544319,\n",
       " 0.020085418514904221,\n",
       " 0.067051820312370794,\n",
       " 0.032221067443880334,\n",
       " 0.18937210721446365,\n",
       " 0.1294705459893479,\n",
       " 0.13794354074624457,\n",
       " 0.15604312139836971,\n",
       " 0.06718346769125054,\n",
       " 0.071179247215910971,\n",
       " 0.027477139508759161,\n",
       " 0.045348614102121119,\n",
       " 0.13791160539492991,\n",
       " 0.15783074624654966,\n",
       " 0.13429784419645996,\n",
       " 0.037098871313242777,\n",
       " 0.012890736124339462,\n",
       " 0.01301628583545061,\n",
       " 0.023178405640469264,\n",
       " 0.11531945066928175,\n",
       " 0.022032824001309747,\n",
       " 0.1418964540267813,\n",
       " 0.0040119565717776588,\n",
       " 0.01334655811957336,\n",
       " 0.14359748994768418,\n",
       " 0.08935898865594176,\n",
       " 0.036741910583226393,\n",
       " 0.17802309967256227,\n",
       " 0.096455189755420376,\n",
       " 0.19326522875441557,\n",
       " 0.040662876349590538,\n",
       " 0.036221362011188037,\n",
       " 0.050480174163355963,\n",
       " 0.037830020139149663,\n",
       " 0.01314629459238865,\n",
       " 0.029292744426440722,\n",
       " 0.050491558211461507,\n",
       " 0.011502613811400636,\n",
       " 0.209825738811343,\n",
       " 0.1930719829135637,\n",
       " 0.20988114699790492,\n",
       " 0.037814784252147217,\n",
       " 0.02265723681349446,\n",
       " 0.034624794753187998,\n",
       " 0.049203894190837691,\n",
       " 0.031903350038791897,\n",
       " 0.097435157610836112,\n",
       " 0.049424250695792503,\n",
       " 0.036101343776499796,\n",
       " 0.043021590521755443,\n",
       " 0.050378778362535646,\n",
       " 0.029800749125171118,\n",
       " 0.016611971561893719,\n",
       " 0.045594266970734383,\n",
       " 0.01280356455231554,\n",
       " 0.024293097205194809,\n",
       " 0.048796958963933677,\n",
       " 0.061699303503400367,\n",
       " 0.034599352134794856,\n",
       " 0.087509017322152882,\n",
       " 0.034450825095975149,\n",
       " 0.005441312215253946,\n",
       " 0.022601131249464834,\n",
       " 0.050150200204017746,\n",
       " 0.047113559122699759,\n",
       " 0.022911825233319794,\n",
       " 0.048395791445493497,\n",
       " 0.027572980680942976,\n",
       " 0.042793757589994486,\n",
       " 0.048089257642844725,\n",
       " 0.096944773418687652,\n",
       " 0.19004640705680165,\n",
       " 0.066555691231215991,\n",
       " 0.078995871098156242,\n",
       " 0.03003502814061336,\n",
       " 0.026308917745111956,\n",
       " 0.096459684241224974,\n",
       " 0.089542373709218165,\n",
       " 0.078934460581798233,\n",
       " 0.021786157288596359,\n",
       " 0.035826184532034427,\n",
       " 0.044878991747851218,\n",
       " 0.19312303687440374,\n",
       " 0.047953742976199622,\n",
       " 0.036369699005264648,\n",
       " 0.19743190071324873,\n",
       " 0.05023966445916031,\n",
       " 0.029418077197483988,\n",
       " 0.18208998636377294,\n",
       " 0.047925476930857955,\n",
       " 0.050422447748539309,\n",
       " 0.037635099517213028,\n",
       " 0.055758587240900499,\n",
       " 0.17149258336292589,\n",
       " 0.022524084994659722,\n",
       " 0.036124783878807958,\n",
       " 0.016700227649076475,\n",
       " 0.026325568677351627,\n",
       " 0.19401432365278873,\n",
       " 0.080918963664366059,\n",
       " 0.061471053152796974,\n",
       " 0.22941996927794653,\n",
       " 0.0059357669624793491,\n",
       " 0.19341984186612265,\n",
       " 0.060768502047115543,\n",
       " 0.027149594714537876,\n",
       " 0.026338982001581319,\n",
       " 0.035702106074287497,\n",
       " 0.02481958726585649,\n",
       " 0.17154086478417307,\n",
       " 0.23074461011874473,\n",
       " 0.020831228309488525,\n",
       " 0.070002685488078836,\n",
       " 0.11397728559155679,\n",
       " 0.024828752932589824,\n",
       " 0.085184676821677158,\n",
       " 0.01716749513007575,\n",
       " 0.028724644766962196,\n",
       " 0.020972005458230112,\n",
       " 0.027772109069082573,\n",
       " 0.055537418718612126,\n",
       " 0.05289144876315157,\n",
       " 0.21269404863310221,\n",
       " 0.017619324262021958,\n",
       " 0.042167094006947813,\n",
       " 0.035962078525035288,\n",
       " 0.037821416523957194,\n",
       " 0.0089554100170887128,\n",
       " 0.14444999603775785,\n",
       " 0.01304325817600103,\n",
       " 0.046956540412755265,\n",
       " 0.023218010014857259,\n",
       " 0.12373948697650895,\n",
       " 0.18683353267692832,\n",
       " 0.0089407431724951823,\n",
       " 0.22285509142899845,\n",
       " 0.036217964967845295,\n",
       " 0.036844153873791641,\n",
       " 0.19760338856828366,\n",
       " 0.052225612752637832,\n",
       " 0.03085160430163925,\n",
       " 0.044087127184359434,\n",
       " 0.052751518901969024,\n",
       " 0.038192656295324139,\n",
       " 0.18264523103110741,\n",
       " 0.18608559036584535,\n",
       " 0.2025752028047911,\n",
       " 0.22345094961838094,\n",
       " 0.035251816562463074,\n",
       " 0.029659443399078118,\n",
       " 0.049691437595083106,\n",
       " 0.036506825316995763,\n",
       " 0.14161631759835927,\n",
       " 0.045597128280843918,\n",
       " 0.017359594097569597,\n",
       " 0.22509189670789881,\n",
       " 0.038595545344310936,\n",
       " 0.049578954084938988,\n",
       " 0.033478394753116016,\n",
       " 0.092256306666784915,\n",
       " 0.02065781130495014,\n",
       " 0.041091259540652805,\n",
       " 0.028512360208522037,\n",
       " 0.12533889119985608,\n",
       " 0.035395503318929364,\n",
       " 0.035655432737384078,\n",
       " 0.045186658868371699,\n",
       " 0.075413437076308612,\n",
       " 0.23211382580691409,\n",
       " 0.039731149317307896,\n",
       " 0.019973209028003504,\n",
       " 0.17397187331978703,\n",
       " 0.017756064472039656,\n",
       " 0.050411926510490999,\n",
       " 0.14129326123206082,\n",
       " 0.061363505804067249,\n",
       " 0.045450618719158432,\n",
       " 0.12961786756359089,\n",
       " 0.045209806004616868,\n",
       " ...]"
      ]
     },
     "execution_count": 48,
     "metadata": {},
     "output_type": "execute_result"
    }
   ],
   "source": [
    "distances_to_all_prod_mean"
   ]
  },
  {
   "cell_type": "code",
   "execution_count": 56,
   "metadata": {
    "collapsed": false
   },
   "outputs": [],
   "source": [
    "min_dist = min(distances_to_all_prod_mean)\n",
    "max_dist = max(distances_to_all_prod_mean)"
   ]
  },
  {
   "cell_type": "code",
   "execution_count": 57,
   "metadata": {
    "collapsed": false
   },
   "outputs": [
    {
     "data": {
      "text/plain": [
       "array([ 0.        ,  0.00021862,  0.00024381, ...,  0.00033877,\n",
       "        0.00033908,  0.00033865])"
      ]
     },
     "execution_count": 57,
     "metadata": {},
     "output_type": "execute_result"
    }
   ],
   "source": [
    "tmp_w = max_dist - distances_to_all_prod_mean\n",
    "tmp_w /= max_dist\n",
    "tmp_w /= sum(tmp_w)\n",
    "tmp_w"
   ]
  },
  {
   "cell_type": "code",
   "execution_count": 58,
   "metadata": {
    "collapsed": false
   },
   "outputs": [],
   "source": [
    "#  select a few randomy weighted by distance to cluster mean\n",
    "new_prod_proposal_indexes = np.random.choice(range(len(top_3000_empty_spaces)), p=tmp_w, size=200)\n",
    "\n"
   ]
  },
  {
   "cell_type": "markdown",
   "metadata": {},
   "source": [
    "#  Extract and Save Products"
   ]
  },
  {
   "cell_type": "code",
   "execution_count": 59,
   "metadata": {
    "collapsed": true
   },
   "outputs": [],
   "source": [
    "new_prod_proposals_emedded = top_3000_empty_spaces[new_prod_proposal_indexes, :2]"
   ]
  },
  {
   "cell_type": "code",
   "execution_count": 60,
   "metadata": {
    "collapsed": false
   },
   "outputs": [
    {
     "data": {
      "text/plain": [
       "array([[ 0.00135838,  0.00183371, -0.009707  , ...,  0.03653895,\n",
       "        -0.02925965,  0.02478035],\n",
       "       [ 0.00594393,  0.00850008,  0.02104472, ...,  0.03413865,\n",
       "        -0.09717194,  0.0492172 ],\n",
       "       [ 0.00546525,  0.00411323,  0.00125247, ...,  0.02401593,\n",
       "         0.12196591,  0.01799313],\n",
       "       ..., \n",
       "       [ 0.00548301,  0.00601282,  0.00900118, ...,  0.03007243,\n",
       "         0.0002417 ,  0.03382236],\n",
       "       [ 0.00544333,  0.00570813,  0.00763594, ...,  0.02940392,\n",
       "         0.01494998,  0.03168909],\n",
       "       [ 0.00557891,  0.00640384,  0.01087874, ...,  0.03068837,\n",
       "        -0.01451046,  0.03621742]])"
      ]
     },
     "execution_count": 60,
     "metadata": {},
     "output_type": "execute_result"
    }
   ],
   "source": [
    "new_prod_proposals = kpca_model.inverse_transform(new_prod_proposals_emedded)\n",
    "new_prod_proposals"
   ]
  },
  {
   "cell_type": "code",
   "execution_count": 77,
   "metadata": {
    "collapsed": false
   },
   "outputs": [
    {
     "data": {
      "text/plain": [
       "array([[0, 0, 0, ..., 0, 0, 0],\n",
       "       [0, 0, 0, ..., 0, 0, 0],\n",
       "       [0, 0, 0, ..., 0, 1, 0],\n",
       "       ..., \n",
       "       [0, 0, 0, ..., 0, 0, 0],\n",
       "       [0, 0, 0, ..., 0, 0, 0],\n",
       "       [0, 0, 0, ..., 0, 0, 0]])"
      ]
     },
     "execution_count": 77,
     "metadata": {},
     "output_type": "execute_result"
    }
   ],
   "source": [
    "new_prod_theshold_offset = 0.02  #  to force sparsity\n",
    "new_prod_proposals_bin = (new_prod_proposals > (theshold_inv_value + new_prod_theshold_offset)).astype(int)\n",
    "new_prod_proposals_bin"
   ]
  },
  {
   "cell_type": "code",
   "execution_count": 78,
   "metadata": {
    "collapsed": false
   },
   "outputs": [
    {
     "name": "stdout",
     "output_type": "stream",
     "text": [
      "(200, 1000)\n",
      "200\n"
     ]
    },
    {
     "data": {
      "text/plain": [
       "array([ 93,  67,  36,  16,   6,  52,  56,  28,   6,   2,  14,   3,   6,\n",
       "         1,   4,   7,   8,  77,   0,  30,   4,   4,  13,   1,   7,   4,\n",
       "         8,  19,  91,   4,  20,  19,  17,  28,  15,   4,   4,  63,  22,\n",
       "        12,   8,   5,  20,  11, 145,   5,   6,  74,   8,   7,  12,  12,\n",
       "         6,  11,  20,  43,  56,  29,   7,  53,   0,  38,  43,   6,  14,\n",
       "        52,  73,   0,   1,  57,   4,   4,  30,  23,  14,   4,   7,  64,\n",
       "        11,   0,  52,  13,  56,  61,   8,   1,   4,   6,   4,   6,  51,\n",
       "        70,   1,  14,  12,  74,   6,  16, 377,  41,  36,   2,   9,   7,\n",
       "        32,  12,   2,  57, 145,   3,   0,  59,  13,  71,  32,  16,   1,\n",
       "        19,   9,  87,  12,   6,   1,   4,  25,  64,   9,  14,  92,  42,\n",
       "         4,  29,   6,  65,  10,  94,  46,   6,  11,   0,   6,  13,  60,\n",
       "        51,   6,   6, 449,   6,  51,  39,  41, 103,  11,  16,  57,   1,\n",
       "        34,   1,  25,   7,   6,  20,  20,   0,  70,  19,  14,   0,  15,\n",
       "         6,  22,   8,   7,  93,  93,  22,   4, 153,   8,   4,   5,   7,\n",
       "         4,  70,  11,   3,   7,  52,  15,  52,  20,   4,   6,  47,   4,\n",
       "         4,  10,   4,   0,   7])"
      ]
     },
     "execution_count": 78,
     "metadata": {},
     "output_type": "execute_result"
    }
   ],
   "source": [
    "print(new_prod_proposals_bin.shape)\n",
    "print(len(new_prod_proposals_bin.sum(axis=1)))\n",
    "new_prod_proposals_bin.sum(axis=1)"
   ]
  },
  {
   "cell_type": "code",
   "execution_count": 79,
   "metadata": {
    "collapsed": false
   },
   "outputs": [
    {
     "data": {
      "text/html": [
       "<div>\n",
       "<table border=\"1\" class=\"dataframe\">\n",
       "  <thead>\n",
       "    <tr style=\"text-align: right;\">\n",
       "      <th></th>\n",
       "      <th>0</th>\n",
       "      <th>1</th>\n",
       "      <th>2</th>\n",
       "      <th>3</th>\n",
       "      <th>4</th>\n",
       "      <th>5</th>\n",
       "      <th>6</th>\n",
       "      <th>7</th>\n",
       "      <th>8</th>\n",
       "      <th>9</th>\n",
       "      <th>...</th>\n",
       "      <th>990</th>\n",
       "      <th>991</th>\n",
       "      <th>992</th>\n",
       "      <th>993</th>\n",
       "      <th>994</th>\n",
       "      <th>995</th>\n",
       "      <th>996</th>\n",
       "      <th>997</th>\n",
       "      <th>998</th>\n",
       "      <th>999</th>\n",
       "    </tr>\n",
       "  </thead>\n",
       "  <tbody>\n",
       "    <tr>\n",
       "      <th>0</th>\n",
       "      <td>0</td>\n",
       "      <td>0</td>\n",
       "      <td>0</td>\n",
       "      <td>0</td>\n",
       "      <td>0</td>\n",
       "      <td>0</td>\n",
       "      <td>0</td>\n",
       "      <td>0</td>\n",
       "      <td>0</td>\n",
       "      <td>0</td>\n",
       "      <td>...</td>\n",
       "      <td>0</td>\n",
       "      <td>0</td>\n",
       "      <td>0</td>\n",
       "      <td>0</td>\n",
       "      <td>0</td>\n",
       "      <td>0</td>\n",
       "      <td>0</td>\n",
       "      <td>0</td>\n",
       "      <td>0</td>\n",
       "      <td>0</td>\n",
       "    </tr>\n",
       "    <tr>\n",
       "      <th>1</th>\n",
       "      <td>0</td>\n",
       "      <td>0</td>\n",
       "      <td>0</td>\n",
       "      <td>0</td>\n",
       "      <td>0</td>\n",
       "      <td>0</td>\n",
       "      <td>0</td>\n",
       "      <td>0</td>\n",
       "      <td>0</td>\n",
       "      <td>0</td>\n",
       "      <td>...</td>\n",
       "      <td>0</td>\n",
       "      <td>0</td>\n",
       "      <td>0</td>\n",
       "      <td>1</td>\n",
       "      <td>1</td>\n",
       "      <td>1</td>\n",
       "      <td>0</td>\n",
       "      <td>0</td>\n",
       "      <td>0</td>\n",
       "      <td>0</td>\n",
       "    </tr>\n",
       "    <tr>\n",
       "      <th>2</th>\n",
       "      <td>0</td>\n",
       "      <td>0</td>\n",
       "      <td>0</td>\n",
       "      <td>0</td>\n",
       "      <td>0</td>\n",
       "      <td>0</td>\n",
       "      <td>0</td>\n",
       "      <td>0</td>\n",
       "      <td>0</td>\n",
       "      <td>0</td>\n",
       "      <td>...</td>\n",
       "      <td>0</td>\n",
       "      <td>0</td>\n",
       "      <td>1</td>\n",
       "      <td>0</td>\n",
       "      <td>0</td>\n",
       "      <td>0</td>\n",
       "      <td>0</td>\n",
       "      <td>0</td>\n",
       "      <td>1</td>\n",
       "      <td>0</td>\n",
       "    </tr>\n",
       "    <tr>\n",
       "      <th>3</th>\n",
       "      <td>0</td>\n",
       "      <td>0</td>\n",
       "      <td>0</td>\n",
       "      <td>0</td>\n",
       "      <td>0</td>\n",
       "      <td>0</td>\n",
       "      <td>0</td>\n",
       "      <td>0</td>\n",
       "      <td>0</td>\n",
       "      <td>0</td>\n",
       "      <td>...</td>\n",
       "      <td>0</td>\n",
       "      <td>0</td>\n",
       "      <td>0</td>\n",
       "      <td>0</td>\n",
       "      <td>0</td>\n",
       "      <td>0</td>\n",
       "      <td>0</td>\n",
       "      <td>0</td>\n",
       "      <td>0</td>\n",
       "      <td>0</td>\n",
       "    </tr>\n",
       "    <tr>\n",
       "      <th>4</th>\n",
       "      <td>0</td>\n",
       "      <td>0</td>\n",
       "      <td>0</td>\n",
       "      <td>0</td>\n",
       "      <td>0</td>\n",
       "      <td>0</td>\n",
       "      <td>0</td>\n",
       "      <td>0</td>\n",
       "      <td>0</td>\n",
       "      <td>0</td>\n",
       "      <td>...</td>\n",
       "      <td>0</td>\n",
       "      <td>0</td>\n",
       "      <td>0</td>\n",
       "      <td>0</td>\n",
       "      <td>0</td>\n",
       "      <td>0</td>\n",
       "      <td>0</td>\n",
       "      <td>0</td>\n",
       "      <td>0</td>\n",
       "      <td>0</td>\n",
       "    </tr>\n",
       "  </tbody>\n",
       "</table>\n",
       "<p>5 rows × 1000 columns</p>\n",
       "</div>"
      ],
      "text/plain": [
       "   0    1    2    3    4    5    6    7    8    9   ...   990  991  992  993  \\\n",
       "0    0    0    0    0    0    0    0    0    0    0 ...     0    0    0    0   \n",
       "1    0    0    0    0    0    0    0    0    0    0 ...     0    0    0    1   \n",
       "2    0    0    0    0    0    0    0    0    0    0 ...     0    0    1    0   \n",
       "3    0    0    0    0    0    0    0    0    0    0 ...     0    0    0    0   \n",
       "4    0    0    0    0    0    0    0    0    0    0 ...     0    0    0    0   \n",
       "\n",
       "   994  995  996  997  998  999  \n",
       "0    0    0    0    0    0    0  \n",
       "1    1    1    0    0    0    0  \n",
       "2    0    0    0    0    1    0  \n",
       "3    0    0    0    0    0    0  \n",
       "4    0    0    0    0    0    0  \n",
       "\n",
       "[5 rows x 1000 columns]"
      ]
     },
     "execution_count": 79,
     "metadata": {},
     "output_type": "execute_result"
    }
   ],
   "source": [
    "new_prod_proposals_bin_df = pd.DataFrame(new_prod_proposals_bin)\n",
    "new_prod_proposals_bin_df.head()"
   ]
  },
  {
   "cell_type": "markdown",
   "metadata": {},
   "source": [
    "#  Save To File"
   ]
  },
  {
   "cell_type": "code",
   "execution_count": 80,
   "metadata": {
    "collapsed": false
   },
   "outputs": [],
   "source": [
    "new_prod_proposals_bin_df.to_excel('new_product_proposals.xlsx')"
   ]
  },
  {
   "cell_type": "code",
   "execution_count": null,
   "metadata": {
    "collapsed": true
   },
   "outputs": [],
   "source": []
  },
  {
   "cell_type": "code",
   "execution_count": null,
   "metadata": {
    "collapsed": true
   },
   "outputs": [],
   "source": []
  },
  {
   "cell_type": "code",
   "execution_count": null,
   "metadata": {
    "collapsed": true
   },
   "outputs": [],
   "source": []
  },
  {
   "cell_type": "code",
   "execution_count": null,
   "metadata": {
    "collapsed": true
   },
   "outputs": [],
   "source": []
  },
  {
   "cell_type": "code",
   "execution_count": null,
   "metadata": {
    "collapsed": true
   },
   "outputs": [],
   "source": []
  },
  {
   "cell_type": "code",
   "execution_count": null,
   "metadata": {
    "collapsed": true
   },
   "outputs": [],
   "source": []
  }
 ],
 "metadata": {
  "kernelspec": {
   "display_name": "Python 2",
   "language": "python",
   "name": "python2"
  },
  "language_info": {
   "codemirror_mode": {
    "name": "ipython",
    "version": 2
   },
   "file_extension": ".py",
   "mimetype": "text/x-python",
   "name": "python",
   "nbconvert_exporter": "python",
   "pygments_lexer": "ipython2",
   "version": "2.7.13"
  }
 },
 "nbformat": 4,
 "nbformat_minor": 2
}
